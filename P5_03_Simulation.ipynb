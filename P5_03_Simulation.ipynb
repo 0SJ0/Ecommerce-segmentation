{
 "cells": [
  {
   "cell_type": "markdown",
   "metadata": {},
   "source": [
    "# <center> Projet :  Analysez des clients d'un e-commerce </center>\n",
    "\n",
    "\n",
    "\n",
    "<img src=\"https://storage.googleapis.com/kaggle-datasets-images/55151/105464/d59245a7014a35a35cc7f7b721de4dae/data-original.png?t=2018-09-21-16-21-21\" width=1292>\n",
    "\n",
    "# <center>Partie : Contrat de maintenance</center>\n",
    "\n",
    "\n",
    "### <center>Dataset : OLIST </center>\n",
    "### <center> https://www.kaggle.com/olistbr/brazilian-ecommerce <center>"
   ]
  },
  {
   "cell_type": "markdown",
   "metadata": {},
   "source": [
    "Pour le contrat de maintenance, nous allons déterminer si nous devons mettre à jour notre modèles de segmentationa chaques mois, bimestres (2 mois) ou quadrimestres (4 mois)."
   ]
  },
  {
   "cell_type": "code",
   "execution_count": 77,
   "metadata": {},
   "outputs": [],
   "source": [
    "#Ci dessous la liste des packages que nous utilsons pour ce projet.\n",
    "import pandas as pd\n",
    "import numpy as np\n",
    "import matplotlib.pyplot as plt\n",
    "import seaborn as sns\n",
    "import plotly.express as px\n",
    "import plotly.graph_objects as go\n",
    "import rpy2\n",
    "import pickle\n",
    "\n",
    "#Statistiques/ML\n",
    "import sklearn\n",
    "from sklearn.model_selection import train_test_split\n",
    "from sklearn.metrics import r2_score # score recall\n",
    "from sklearn.linear_model import LinearRegression\n",
    "from sklearn.metrics import mean_squared_error\n",
    "from sklearn.linear_model import Lasso\n",
    "from sklearn.ensemble import RandomForestClassifier\n",
    "from sklearn.datasets import make_classification\n",
    "from sklearn.metrics import mean_absolute_error\n",
    "from sklearn.model_selection import GridSearchCV\n",
    "from sklearn import model_selection\n",
    "from sklearn.ensemble import RandomForestRegressor\n",
    "from sklearn.decomposition import PCA\n",
    "from sklearn.mixture import GaussianMixture\n",
    "from scipy.cluster.hierarchy import fcluster, linkage\n",
    "from sklearn.metrics.cluster import adjusted_rand_score\n",
    "from sklearn.cluster import KMeans\n",
    "import scipy\n",
    "\n",
    "\n",
    "import random\n",
    "\n",
    "random.seed((1000,2000))\n",
    "\n",
    "import time\n",
    "\n",
    "\n",
    "\n",
    "#Afficher toute les colonnes\n",
    "pd.set_option('display.max_columns', None)\n",
    "#pd.set_option('display.max_rows', None)\n",
    "\n",
    "from statistics import mean\n",
    "\n",
    "from sklearn.metrics import (\n",
    "    adjusted_rand_score as ari\n",
    ")"
   ]
  },
  {
   "cell_type": "markdown",
   "metadata": {},
   "source": [
    "# Testons le contrat de maintenance par quadrimestres"
   ]
  },
  {
   "cell_type": "code",
   "execution_count": 78,
   "metadata": {},
   "outputs": [
    {
     "name": "stdout",
     "output_type": "stream",
     "text": [
      "   review_score  payment_value  freight_value  product_weight_g  \\\n",
      "0             4          45.46          15.56             300.0   \n",
      "1             5          56.78           7.78             200.0   \n",
      "2             5          34.92           8.93             600.0   \n",
      "3             4          39.09          17.19             400.0   \n",
      "4             3          53.73          17.24             767.0   \n",
      "\n",
      "   Nombre_commandes  Client_fidele_numeric  year  Client_satisfaction_numeric  \\\n",
      "0                 3                      1  2016                            1   \n",
      "1                 3                      1  2017                            1   \n",
      "2                 3                      1  2018                            1   \n",
      "3                 1                      0  2016                            1   \n",
      "4                 1                      0  2016                            0   \n",
      "\n",
      "   volume       PC1       PC2       PC3  \n",
      "0  4096.0 -1.172622  0.717741  5.380164  \n",
      "1   352.0 -1.570393  1.220700  5.312687  \n",
      "2  2784.0 -1.456897  1.237699  5.318745  \n",
      "3  4096.0 -0.819087  0.151785 -0.402089  \n",
      "4  4160.0 -0.484263 -2.095929 -0.157933  \n",
      "96330\n"
     ]
    },
    {
     "data": {
      "text/plain": [
       "KMeans(max_iter=3000, n_clusters=4, n_init=5)"
      ]
     },
     "execution_count": 78,
     "metadata": {},
     "output_type": "execute_result"
    }
   ],
   "source": [
    "df=pd.read_csv(\"df.csv\")\n",
    "df['month'] = df['month'].astype(str)\n",
    "\n",
    "\n",
    "numerics = ['int16', 'int32', 'int64', 'float16', 'float32', 'float64']\n",
    "df_kmeans_all=df\n",
    "df_kmeans_all=df_kmeans_all.reset_index(drop=True)\n",
    "df_kmeans_all=df_kmeans_all.select_dtypes(include=numerics)\n",
    "\n",
    "print(df_kmeans_all.head())\n",
    "\n",
    "\n",
    "\n",
    "\n",
    "df_pca=df_kmeans_all.drop([\"PC1\",\"PC2\",\"PC3\"],axis=1)\n",
    "df_pca=df_pca.drop([\"year\"],axis=1)\n",
    "df_pca=df_pca.select_dtypes(include=numerics)\n",
    "df_pca= df_pca / df_pca.std(axis=0)\n",
    "n_components = 3\n",
    "pca = PCA(n_components=n_components)\n",
    "reduced = pca.fit_transform(df_pca)\n",
    "for i in range(0, n_components):\n",
    "    df_pca['PC' + str(i + 1)] = reduced[:, i]\n",
    " \n",
    "df_kmeans_all[\"PC1\"]=df_pca[\"PC1\"]\n",
    "df_kmeans_all[\"PC2\"]=df_pca[\"PC2\"]\n",
    "df_kmeans_all[\"PC3\"]=df_pca[\"PC3\"]\n",
    "print(len(df_kmeans_all))\n",
    "\n",
    "\n",
    "df_kmeans_all=df_kmeans_all[[\"PC1\",\"PC2\",\"PC3\"]]\n",
    "\n",
    "\n",
    "kmeans_ALL = KMeans(n_clusters=4,n_init=5,max_iter=3000)\n",
    "kmeans_ALL.fit(df_kmeans_all)\n",
    "\n"
   ]
  },
  {
   "cell_type": "code",
   "execution_count": 79,
   "metadata": {},
   "outputs": [
    {
     "name": "stdout",
     "output_type": "stream",
     "text": [
      "['Q3' 'Q2' 'Q1']\n",
      "['Q3' 'Q2' 'Q1']\n",
      "<class 'pandas.core.frame.DataFrame'>\n",
      "   review_score  payment_value  freight_value  product_weight_g  \\\n",
      "0             4          45.46          15.56             300.0   \n",
      "1             5          56.78           7.78             200.0   \n",
      "2             4          39.09          17.19             400.0   \n",
      "3             3          53.73          17.24             767.0   \n",
      "4             1         133.46          13.56            2050.0   \n",
      "\n",
      "   Nombre_commandes  Client_fidele_numeric  year  Client_satisfaction_numeric  \\\n",
      "0                 3                      1  2016                            1   \n",
      "1                 3                      1  2017                            1   \n",
      "2                 1                      0  2016                            1   \n",
      "3                 1                      0  2016                            0   \n",
      "4                 1                      0  2016                            0   \n",
      "\n",
      "    volume       PC1       PC2       PC3  \n",
      "0   4096.0 -1.172622  0.717741  5.380164  \n",
      "1    352.0 -1.570393  1.220700  5.312687  \n",
      "2   4096.0 -0.819087  0.151785 -0.402089  \n",
      "3   4160.0 -0.484263 -2.095929 -0.157933  \n",
      "4  14960.0  0.096908 -3.129357 -0.025936  \n",
      "70816\n"
     ]
    },
    {
     "data": {
      "text/plain": [
       "KMeans(max_iter=3000, n_clusters=4, n_init=5)"
      ]
     },
     "execution_count": 79,
     "metadata": {},
     "output_type": "execute_result"
    }
   ],
   "source": [
    "\n",
    "\n",
    "numerics = ['int16', 'int32', 'int64', 'float16', 'float32', 'float64']\n",
    "df_kmeans_Q1=df\n",
    "df_kmeans_Q1=df_kmeans_Q1.query(\"year!=2018 or Quadrimestre=='Q1' \")\n",
    "print(df_kmeans_Q1.Quadrimestre.unique())\n",
    "\n",
    "print(df_kmeans_Q1.Quadrimestre.unique())\n",
    "print(type(df_kmeans_Q1))\n",
    "#df_kmeans_Q1=df_kmeans_Q1.query(\"Quadrimestre!='Q2'\")\n",
    "df_kmeans_Q1=df_kmeans_Q1.reset_index(drop=True)\n",
    "df_kmeans_Q1=df_kmeans_Q1.select_dtypes(include=numerics)\n",
    "\n",
    "print(df_kmeans_Q1.head())\n",
    "\n",
    "\n",
    "\n",
    "\n",
    "df_pca=df_kmeans_Q1.drop([\"PC1\",\"PC2\",\"PC3\"],axis=1)\n",
    "df_pca=df_pca.drop([\"year\"],axis=1)\n",
    "df_pca=df_pca.select_dtypes(include=numerics)\n",
    "df_pca= df_pca / df_pca.std(axis=0)\n",
    "n_components = 3\n",
    "pca = PCA(n_components=n_components)\n",
    "reduced = pca.fit_transform(df_pca)\n",
    "for i in range(0, n_components):\n",
    "    df_pca['PC' + str(i + 1)] = reduced[:, i]\n",
    " \n",
    "df_kmeans_Q1[\"PC1\"]=df_pca[\"PC1\"]\n",
    "df_kmeans_Q1[\"PC2\"]=df_pca[\"PC2\"]\n",
    "df_kmeans_Q1[\"PC3\"]=df_pca[\"PC3\"]\n",
    "print(len(df_kmeans_Q1))\n",
    "\n",
    "\n",
    "df_kmeans_Q1=df_kmeans_Q1[[\"PC1\",\"PC2\",\"PC3\"]]\n",
    "\n",
    "\n",
    "kmeans_Q1 = KMeans(n_clusters=4,n_init=5,max_iter=3000)\n",
    "kmeans_Q1.fit(df_kmeans_Q1)\n"
   ]
  },
  {
   "cell_type": "code",
   "execution_count": 80,
   "metadata": {},
   "outputs": [
    {
     "name": "stdout",
     "output_type": "stream",
     "text": [
      "['Q3' 'Q2' 'Q1']\n",
      "<class 'pandas.core.frame.DataFrame'>\n",
      "   review_score  payment_value  freight_value  product_weight_g  \\\n",
      "0             4          45.46          15.56             300.0   \n",
      "1             5          56.78           7.78             200.0   \n",
      "2             4          39.09          17.19             400.0   \n",
      "3             3          53.73          17.24             767.0   \n",
      "4             1         133.46          13.56            2050.0   \n",
      "\n",
      "   Nombre_commandes  Client_fidele_numeric  year  Client_satisfaction_numeric  \\\n",
      "0                 3                      1  2016                            1   \n",
      "1                 3                      1  2017                            1   \n",
      "2                 1                      0  2016                            1   \n",
      "3                 1                      0  2016                            0   \n",
      "4                 1                      0  2016                            0   \n",
      "\n",
      "    volume       PC1       PC2       PC3  \n",
      "0   4096.0 -1.172622  0.717741  5.380164  \n",
      "1    352.0 -1.570393  1.220700  5.312687  \n",
      "2   4096.0 -0.819087  0.151785 -0.402089  \n",
      "3   4160.0 -0.484263 -2.095929 -0.157933  \n",
      "4  14960.0  0.096908 -3.129357 -0.025936  \n",
      "43652\n"
     ]
    },
    {
     "data": {
      "text/plain": [
       "KMeans(max_iter=3000, n_clusters=4, n_init=5)"
      ]
     },
     "execution_count": 80,
     "metadata": {},
     "output_type": "execute_result"
    }
   ],
   "source": [
    "\n",
    "\n",
    "numerics = ['int16', 'int32', 'int64', 'float16', 'float32', 'float64']\n",
    "df_kmeans_2018=df\n",
    "df_kmeans_2018=df_kmeans_2018.query(\"year!=2018\")\n",
    "print(df_kmeans_2018.Quadrimestre.unique())\n",
    "print(type(df_kmeans_2018))\n",
    "#df_kmeans_Q1=df_kmeans_Q1.query(\"Quadrimestre!='Q2'\")\n",
    "df_kmeans_2018=df_kmeans_2018.reset_index(drop=True)\n",
    "df_kmeans_2018=df_kmeans_2018.select_dtypes(include=numerics)\n",
    "\n",
    "print(df_kmeans_2018.head())\n",
    "\n",
    "\n",
    "\n",
    "\n",
    "df_pca=df_kmeans_2018.drop([\"PC1\",\"PC2\",\"PC3\"],axis=1)\n",
    "df_pca=df_pca.drop([\"year\"],axis=1)\n",
    "df_pca=df_pca.select_dtypes(include=numerics)\n",
    "df_pca= df_pca / df_pca.std(axis=0)\n",
    "n_components = 3\n",
    "pca = PCA(n_components=n_components)\n",
    "reduced = pca.fit_transform(df_pca)\n",
    "for i in range(0, n_components):\n",
    "    df_pca['PC' + str(i + 1)] = reduced[:, i]\n",
    " \n",
    "df_kmeans_2018[\"PC1\"]=df_pca[\"PC1\"]\n",
    "df_kmeans_2018[\"PC2\"]=df_pca[\"PC2\"]\n",
    "df_kmeans_2018[\"PC3\"]=df_pca[\"PC3\"]\n",
    "print(len(df_kmeans_2018))\n",
    "\n",
    "\n",
    "df_kmeans_2018=df_kmeans_2018[[\"PC1\",\"PC2\",\"PC3\"]]\n",
    "\n",
    "\n",
    "kmeans_2018 = KMeans(n_clusters=4,n_init=5,max_iter=3000)\n",
    "kmeans_2018.fit(df_kmeans_2018)\n"
   ]
  },
  {
   "cell_type": "code",
   "execution_count": 81,
   "metadata": {},
   "outputs": [
    {
     "data": {
      "text/plain": [
       "1.0"
      ]
     },
     "execution_count": 81,
     "metadata": {},
     "output_type": "execute_result"
    }
   ],
   "source": [
    "ari_0=ari(kmeans_2018.predict(df_kmeans_2018),kmeans_2018.predict(df_kmeans_2018))\n",
    "ari_0"
   ]
  },
  {
   "cell_type": "code",
   "execution_count": 82,
   "metadata": {},
   "outputs": [
    {
     "data": {
      "text/plain": [
       "0.9953265597393962"
      ]
     },
     "execution_count": 82,
     "metadata": {},
     "output_type": "execute_result"
    }
   ],
   "source": [
    "ari_1=ari(kmeans_2018.predict(df_kmeans_Q1),kmeans_Q1.predict(df_kmeans_Q1))\n",
    "ari_1"
   ]
  },
  {
   "cell_type": "code",
   "execution_count": 83,
   "metadata": {},
   "outputs": [
    {
     "data": {
      "text/plain": [
       "0.9972876058488357"
      ]
     },
     "execution_count": 83,
     "metadata": {},
     "output_type": "execute_result"
    }
   ],
   "source": [
    "ari_2=ari( kmeans_Q1.predict(df_kmeans_all),kmeans_ALL.predict(df_kmeans_all))\n",
    "ari_2"
   ]
  },
  {
   "cell_type": "code",
   "execution_count": 107,
   "metadata": {},
   "outputs": [
    {
     "data": {
      "application/vnd.plotly.v1+json": {
       "config": {
        "plotlyServerURL": "https://plot.ly"
       },
       "data": [
        {
         "hovertemplate": "x=%{x}<br>y=%{y}<extra></extra>",
         "legendgroup": "",
         "marker": {
          "color": "#636efa",
          "size": 50,
          "symbol": "circle"
         },
         "mode": "markers",
         "name": "",
         "orientation": "v",
         "showlegend": false,
         "type": "scatter",
         "x": [
          "2018",
          "Q1 (janvier,février,mars,avril)",
          "Q2 (mai,juin,juillet,aout)"
         ],
         "xaxis": "x",
         "y": [
          1,
          0.9995979128509104,
          0.9959797657485405
         ],
         "yaxis": "y"
        }
       ],
       "layout": {
        "legend": {
         "tracegroupgap": 0
        },
        "shapes": [
         {
          "type": "line",
          "x0": 0,
          "x1": 1,
          "xref": "x domain",
          "y0": 0.9977888392997254,
          "y1": 0.9977888392997254,
          "yref": "y"
         }
        ],
        "template": {
         "data": {
          "bar": [
           {
            "error_x": {
             "color": "#2a3f5f"
            },
            "error_y": {
             "color": "#2a3f5f"
            },
            "marker": {
             "line": {
              "color": "#E5ECF6",
              "width": 0.5
             }
            },
            "type": "bar"
           }
          ],
          "barpolar": [
           {
            "marker": {
             "line": {
              "color": "#E5ECF6",
              "width": 0.5
             }
            },
            "type": "barpolar"
           }
          ],
          "carpet": [
           {
            "aaxis": {
             "endlinecolor": "#2a3f5f",
             "gridcolor": "white",
             "linecolor": "white",
             "minorgridcolor": "white",
             "startlinecolor": "#2a3f5f"
            },
            "baxis": {
             "endlinecolor": "#2a3f5f",
             "gridcolor": "white",
             "linecolor": "white",
             "minorgridcolor": "white",
             "startlinecolor": "#2a3f5f"
            },
            "type": "carpet"
           }
          ],
          "choropleth": [
           {
            "colorbar": {
             "outlinewidth": 0,
             "ticks": ""
            },
            "type": "choropleth"
           }
          ],
          "contour": [
           {
            "colorbar": {
             "outlinewidth": 0,
             "ticks": ""
            },
            "colorscale": [
             [
              0,
              "#0d0887"
             ],
             [
              0.1111111111111111,
              "#46039f"
             ],
             [
              0.2222222222222222,
              "#7201a8"
             ],
             [
              0.3333333333333333,
              "#9c179e"
             ],
             [
              0.4444444444444444,
              "#bd3786"
             ],
             [
              0.5555555555555556,
              "#d8576b"
             ],
             [
              0.6666666666666666,
              "#ed7953"
             ],
             [
              0.7777777777777778,
              "#fb9f3a"
             ],
             [
              0.8888888888888888,
              "#fdca26"
             ],
             [
              1,
              "#f0f921"
             ]
            ],
            "type": "contour"
           }
          ],
          "contourcarpet": [
           {
            "colorbar": {
             "outlinewidth": 0,
             "ticks": ""
            },
            "type": "contourcarpet"
           }
          ],
          "heatmap": [
           {
            "colorbar": {
             "outlinewidth": 0,
             "ticks": ""
            },
            "colorscale": [
             [
              0,
              "#0d0887"
             ],
             [
              0.1111111111111111,
              "#46039f"
             ],
             [
              0.2222222222222222,
              "#7201a8"
             ],
             [
              0.3333333333333333,
              "#9c179e"
             ],
             [
              0.4444444444444444,
              "#bd3786"
             ],
             [
              0.5555555555555556,
              "#d8576b"
             ],
             [
              0.6666666666666666,
              "#ed7953"
             ],
             [
              0.7777777777777778,
              "#fb9f3a"
             ],
             [
              0.8888888888888888,
              "#fdca26"
             ],
             [
              1,
              "#f0f921"
             ]
            ],
            "type": "heatmap"
           }
          ],
          "heatmapgl": [
           {
            "colorbar": {
             "outlinewidth": 0,
             "ticks": ""
            },
            "colorscale": [
             [
              0,
              "#0d0887"
             ],
             [
              0.1111111111111111,
              "#46039f"
             ],
             [
              0.2222222222222222,
              "#7201a8"
             ],
             [
              0.3333333333333333,
              "#9c179e"
             ],
             [
              0.4444444444444444,
              "#bd3786"
             ],
             [
              0.5555555555555556,
              "#d8576b"
             ],
             [
              0.6666666666666666,
              "#ed7953"
             ],
             [
              0.7777777777777778,
              "#fb9f3a"
             ],
             [
              0.8888888888888888,
              "#fdca26"
             ],
             [
              1,
              "#f0f921"
             ]
            ],
            "type": "heatmapgl"
           }
          ],
          "histogram": [
           {
            "marker": {
             "colorbar": {
              "outlinewidth": 0,
              "ticks": ""
             }
            },
            "type": "histogram"
           }
          ],
          "histogram2d": [
           {
            "colorbar": {
             "outlinewidth": 0,
             "ticks": ""
            },
            "colorscale": [
             [
              0,
              "#0d0887"
             ],
             [
              0.1111111111111111,
              "#46039f"
             ],
             [
              0.2222222222222222,
              "#7201a8"
             ],
             [
              0.3333333333333333,
              "#9c179e"
             ],
             [
              0.4444444444444444,
              "#bd3786"
             ],
             [
              0.5555555555555556,
              "#d8576b"
             ],
             [
              0.6666666666666666,
              "#ed7953"
             ],
             [
              0.7777777777777778,
              "#fb9f3a"
             ],
             [
              0.8888888888888888,
              "#fdca26"
             ],
             [
              1,
              "#f0f921"
             ]
            ],
            "type": "histogram2d"
           }
          ],
          "histogram2dcontour": [
           {
            "colorbar": {
             "outlinewidth": 0,
             "ticks": ""
            },
            "colorscale": [
             [
              0,
              "#0d0887"
             ],
             [
              0.1111111111111111,
              "#46039f"
             ],
             [
              0.2222222222222222,
              "#7201a8"
             ],
             [
              0.3333333333333333,
              "#9c179e"
             ],
             [
              0.4444444444444444,
              "#bd3786"
             ],
             [
              0.5555555555555556,
              "#d8576b"
             ],
             [
              0.6666666666666666,
              "#ed7953"
             ],
             [
              0.7777777777777778,
              "#fb9f3a"
             ],
             [
              0.8888888888888888,
              "#fdca26"
             ],
             [
              1,
              "#f0f921"
             ]
            ],
            "type": "histogram2dcontour"
           }
          ],
          "mesh3d": [
           {
            "colorbar": {
             "outlinewidth": 0,
             "ticks": ""
            },
            "type": "mesh3d"
           }
          ],
          "parcoords": [
           {
            "line": {
             "colorbar": {
              "outlinewidth": 0,
              "ticks": ""
             }
            },
            "type": "parcoords"
           }
          ],
          "pie": [
           {
            "automargin": true,
            "type": "pie"
           }
          ],
          "scatter": [
           {
            "marker": {
             "colorbar": {
              "outlinewidth": 0,
              "ticks": ""
             }
            },
            "type": "scatter"
           }
          ],
          "scatter3d": [
           {
            "line": {
             "colorbar": {
              "outlinewidth": 0,
              "ticks": ""
             }
            },
            "marker": {
             "colorbar": {
              "outlinewidth": 0,
              "ticks": ""
             }
            },
            "type": "scatter3d"
           }
          ],
          "scattercarpet": [
           {
            "marker": {
             "colorbar": {
              "outlinewidth": 0,
              "ticks": ""
             }
            },
            "type": "scattercarpet"
           }
          ],
          "scattergeo": [
           {
            "marker": {
             "colorbar": {
              "outlinewidth": 0,
              "ticks": ""
             }
            },
            "type": "scattergeo"
           }
          ],
          "scattergl": [
           {
            "marker": {
             "colorbar": {
              "outlinewidth": 0,
              "ticks": ""
             }
            },
            "type": "scattergl"
           }
          ],
          "scattermapbox": [
           {
            "marker": {
             "colorbar": {
              "outlinewidth": 0,
              "ticks": ""
             }
            },
            "type": "scattermapbox"
           }
          ],
          "scatterpolar": [
           {
            "marker": {
             "colorbar": {
              "outlinewidth": 0,
              "ticks": ""
             }
            },
            "type": "scatterpolar"
           }
          ],
          "scatterpolargl": [
           {
            "marker": {
             "colorbar": {
              "outlinewidth": 0,
              "ticks": ""
             }
            },
            "type": "scatterpolargl"
           }
          ],
          "scatterternary": [
           {
            "marker": {
             "colorbar": {
              "outlinewidth": 0,
              "ticks": ""
             }
            },
            "type": "scatterternary"
           }
          ],
          "surface": [
           {
            "colorbar": {
             "outlinewidth": 0,
             "ticks": ""
            },
            "colorscale": [
             [
              0,
              "#0d0887"
             ],
             [
              0.1111111111111111,
              "#46039f"
             ],
             [
              0.2222222222222222,
              "#7201a8"
             ],
             [
              0.3333333333333333,
              "#9c179e"
             ],
             [
              0.4444444444444444,
              "#bd3786"
             ],
             [
              0.5555555555555556,
              "#d8576b"
             ],
             [
              0.6666666666666666,
              "#ed7953"
             ],
             [
              0.7777777777777778,
              "#fb9f3a"
             ],
             [
              0.8888888888888888,
              "#fdca26"
             ],
             [
              1,
              "#f0f921"
             ]
            ],
            "type": "surface"
           }
          ],
          "table": [
           {
            "cells": {
             "fill": {
              "color": "#EBF0F8"
             },
             "line": {
              "color": "white"
             }
            },
            "header": {
             "fill": {
              "color": "#C8D4E3"
             },
             "line": {
              "color": "white"
             }
            },
            "type": "table"
           }
          ]
         },
         "layout": {
          "annotationdefaults": {
           "arrowcolor": "#2a3f5f",
           "arrowhead": 0,
           "arrowwidth": 1
          },
          "autotypenumbers": "strict",
          "coloraxis": {
           "colorbar": {
            "outlinewidth": 0,
            "ticks": ""
           }
          },
          "colorscale": {
           "diverging": [
            [
             0,
             "#8e0152"
            ],
            [
             0.1,
             "#c51b7d"
            ],
            [
             0.2,
             "#de77ae"
            ],
            [
             0.3,
             "#f1b6da"
            ],
            [
             0.4,
             "#fde0ef"
            ],
            [
             0.5,
             "#f7f7f7"
            ],
            [
             0.6,
             "#e6f5d0"
            ],
            [
             0.7,
             "#b8e186"
            ],
            [
             0.8,
             "#7fbc41"
            ],
            [
             0.9,
             "#4d9221"
            ],
            [
             1,
             "#276419"
            ]
           ],
           "sequential": [
            [
             0,
             "#0d0887"
            ],
            [
             0.1111111111111111,
             "#46039f"
            ],
            [
             0.2222222222222222,
             "#7201a8"
            ],
            [
             0.3333333333333333,
             "#9c179e"
            ],
            [
             0.4444444444444444,
             "#bd3786"
            ],
            [
             0.5555555555555556,
             "#d8576b"
            ],
            [
             0.6666666666666666,
             "#ed7953"
            ],
            [
             0.7777777777777778,
             "#fb9f3a"
            ],
            [
             0.8888888888888888,
             "#fdca26"
            ],
            [
             1,
             "#f0f921"
            ]
           ],
           "sequentialminus": [
            [
             0,
             "#0d0887"
            ],
            [
             0.1111111111111111,
             "#46039f"
            ],
            [
             0.2222222222222222,
             "#7201a8"
            ],
            [
             0.3333333333333333,
             "#9c179e"
            ],
            [
             0.4444444444444444,
             "#bd3786"
            ],
            [
             0.5555555555555556,
             "#d8576b"
            ],
            [
             0.6666666666666666,
             "#ed7953"
            ],
            [
             0.7777777777777778,
             "#fb9f3a"
            ],
            [
             0.8888888888888888,
             "#fdca26"
            ],
            [
             1,
             "#f0f921"
            ]
           ]
          },
          "colorway": [
           "#636efa",
           "#EF553B",
           "#00cc96",
           "#ab63fa",
           "#FFA15A",
           "#19d3f3",
           "#FF6692",
           "#B6E880",
           "#FF97FF",
           "#FECB52"
          ],
          "font": {
           "color": "#2a3f5f"
          },
          "geo": {
           "bgcolor": "white",
           "lakecolor": "white",
           "landcolor": "#E5ECF6",
           "showlakes": true,
           "showland": true,
           "subunitcolor": "white"
          },
          "hoverlabel": {
           "align": "left"
          },
          "hovermode": "closest",
          "mapbox": {
           "style": "light"
          },
          "paper_bgcolor": "white",
          "plot_bgcolor": "#E5ECF6",
          "polar": {
           "angularaxis": {
            "gridcolor": "white",
            "linecolor": "white",
            "ticks": ""
           },
           "bgcolor": "#E5ECF6",
           "radialaxis": {
            "gridcolor": "white",
            "linecolor": "white",
            "ticks": ""
           }
          },
          "scene": {
           "xaxis": {
            "backgroundcolor": "#E5ECF6",
            "gridcolor": "white",
            "gridwidth": 2,
            "linecolor": "white",
            "showbackground": true,
            "ticks": "",
            "zerolinecolor": "white"
           },
           "yaxis": {
            "backgroundcolor": "#E5ECF6",
            "gridcolor": "white",
            "gridwidth": 2,
            "linecolor": "white",
            "showbackground": true,
            "ticks": "",
            "zerolinecolor": "white"
           },
           "zaxis": {
            "backgroundcolor": "#E5ECF6",
            "gridcolor": "white",
            "gridwidth": 2,
            "linecolor": "white",
            "showbackground": true,
            "ticks": "",
            "zerolinecolor": "white"
           }
          },
          "shapedefaults": {
           "line": {
            "color": "#2a3f5f"
           }
          },
          "ternary": {
           "aaxis": {
            "gridcolor": "white",
            "linecolor": "white",
            "ticks": ""
           },
           "baxis": {
            "gridcolor": "white",
            "linecolor": "white",
            "ticks": ""
           },
           "bgcolor": "#E5ECF6",
           "caxis": {
            "gridcolor": "white",
            "linecolor": "white",
            "ticks": ""
           }
          },
          "title": {
           "x": 0.05
          },
          "xaxis": {
           "automargin": true,
           "gridcolor": "white",
           "linecolor": "white",
           "ticks": "",
           "title": {
            "standoff": 15
           },
           "zerolinecolor": "white",
           "zerolinewidth": 2
          },
          "yaxis": {
           "automargin": true,
           "gridcolor": "white",
           "linecolor": "white",
           "ticks": "",
           "title": {
            "standoff": 15
           },
           "zerolinecolor": "white",
           "zerolinewidth": 2
          }
         }
        },
        "title": {
         "text": "Evolution du ARI entre Janvier 2018 et Aout 2018"
        },
        "xaxis": {
         "anchor": "y",
         "domain": [
          0,
          1
         ],
         "title": {
          "text": "Quadrimestre"
         }
        },
        "yaxis": {
         "anchor": "x",
         "domain": [
          0,
          1
         ],
         "title": {
          "text": "ARI"
         },
         "type": "log"
        }
       }
      },
      "text/html": [
       "<div>                            <div id=\"fa524745-29ec-42d8-844c-b100702f4e4e\" class=\"plotly-graph-div\" style=\"height:525px; width:100%;\"></div>            <script type=\"text/javascript\">                require([\"plotly\"], function(Plotly) {                    window.PLOTLYENV=window.PLOTLYENV || {};                                    if (document.getElementById(\"fa524745-29ec-42d8-844c-b100702f4e4e\")) {                    Plotly.newPlot(                        \"fa524745-29ec-42d8-844c-b100702f4e4e\",                        [{\"hovertemplate\": \"x=%{x}<br>y=%{y}<extra></extra>\", \"legendgroup\": \"\", \"marker\": {\"color\": \"#636efa\", \"size\": 50, \"symbol\": \"circle\"}, \"mode\": \"markers\", \"name\": \"\", \"orientation\": \"v\", \"showlegend\": false, \"type\": \"scatter\", \"x\": [\"2018\", \"Q1 (janvier,f\\u00e9vrier,mars,avril)\", \"Q2 (mai,juin,juillet,aout)\"], \"xaxis\": \"x\", \"y\": [1.0, 0.9995979128509104, 0.9959797657485405], \"yaxis\": \"y\"}],                        {\"legend\": {\"tracegroupgap\": 0}, \"shapes\": [{\"type\": \"line\", \"x0\": 0, \"x1\": 1, \"xref\": \"x domain\", \"y0\": 0.9977888392997254, \"y1\": 0.9977888392997254, \"yref\": \"y\"}], \"template\": {\"data\": {\"bar\": [{\"error_x\": {\"color\": \"#2a3f5f\"}, \"error_y\": {\"color\": \"#2a3f5f\"}, \"marker\": {\"line\": {\"color\": \"#E5ECF6\", \"width\": 0.5}}, \"type\": \"bar\"}], \"barpolar\": [{\"marker\": {\"line\": {\"color\": \"#E5ECF6\", \"width\": 0.5}}, \"type\": \"barpolar\"}], \"carpet\": [{\"aaxis\": {\"endlinecolor\": \"#2a3f5f\", \"gridcolor\": \"white\", \"linecolor\": \"white\", \"minorgridcolor\": \"white\", \"startlinecolor\": \"#2a3f5f\"}, \"baxis\": {\"endlinecolor\": \"#2a3f5f\", \"gridcolor\": \"white\", \"linecolor\": \"white\", \"minorgridcolor\": \"white\", \"startlinecolor\": \"#2a3f5f\"}, \"type\": \"carpet\"}], \"choropleth\": [{\"colorbar\": {\"outlinewidth\": 0, \"ticks\": \"\"}, \"type\": \"choropleth\"}], \"contour\": [{\"colorbar\": {\"outlinewidth\": 0, \"ticks\": \"\"}, \"colorscale\": [[0.0, \"#0d0887\"], [0.1111111111111111, \"#46039f\"], [0.2222222222222222, \"#7201a8\"], [0.3333333333333333, \"#9c179e\"], [0.4444444444444444, \"#bd3786\"], [0.5555555555555556, \"#d8576b\"], [0.6666666666666666, \"#ed7953\"], [0.7777777777777778, \"#fb9f3a\"], [0.8888888888888888, \"#fdca26\"], [1.0, \"#f0f921\"]], \"type\": \"contour\"}], \"contourcarpet\": [{\"colorbar\": {\"outlinewidth\": 0, \"ticks\": \"\"}, \"type\": \"contourcarpet\"}], \"heatmap\": [{\"colorbar\": {\"outlinewidth\": 0, \"ticks\": \"\"}, \"colorscale\": [[0.0, \"#0d0887\"], [0.1111111111111111, \"#46039f\"], [0.2222222222222222, \"#7201a8\"], [0.3333333333333333, \"#9c179e\"], [0.4444444444444444, \"#bd3786\"], [0.5555555555555556, \"#d8576b\"], [0.6666666666666666, \"#ed7953\"], [0.7777777777777778, \"#fb9f3a\"], [0.8888888888888888, \"#fdca26\"], [1.0, \"#f0f921\"]], \"type\": \"heatmap\"}], \"heatmapgl\": [{\"colorbar\": {\"outlinewidth\": 0, \"ticks\": \"\"}, \"colorscale\": [[0.0, \"#0d0887\"], [0.1111111111111111, \"#46039f\"], [0.2222222222222222, \"#7201a8\"], [0.3333333333333333, \"#9c179e\"], [0.4444444444444444, \"#bd3786\"], [0.5555555555555556, \"#d8576b\"], [0.6666666666666666, \"#ed7953\"], [0.7777777777777778, \"#fb9f3a\"], [0.8888888888888888, \"#fdca26\"], [1.0, \"#f0f921\"]], \"type\": \"heatmapgl\"}], \"histogram\": [{\"marker\": {\"colorbar\": {\"outlinewidth\": 0, \"ticks\": \"\"}}, \"type\": \"histogram\"}], \"histogram2d\": [{\"colorbar\": {\"outlinewidth\": 0, \"ticks\": \"\"}, \"colorscale\": [[0.0, \"#0d0887\"], [0.1111111111111111, \"#46039f\"], [0.2222222222222222, \"#7201a8\"], [0.3333333333333333, \"#9c179e\"], [0.4444444444444444, \"#bd3786\"], [0.5555555555555556, \"#d8576b\"], [0.6666666666666666, \"#ed7953\"], [0.7777777777777778, \"#fb9f3a\"], [0.8888888888888888, \"#fdca26\"], [1.0, \"#f0f921\"]], \"type\": \"histogram2d\"}], \"histogram2dcontour\": [{\"colorbar\": {\"outlinewidth\": 0, \"ticks\": \"\"}, \"colorscale\": [[0.0, \"#0d0887\"], [0.1111111111111111, \"#46039f\"], [0.2222222222222222, \"#7201a8\"], [0.3333333333333333, \"#9c179e\"], [0.4444444444444444, \"#bd3786\"], [0.5555555555555556, \"#d8576b\"], [0.6666666666666666, \"#ed7953\"], [0.7777777777777778, \"#fb9f3a\"], [0.8888888888888888, \"#fdca26\"], [1.0, \"#f0f921\"]], \"type\": \"histogram2dcontour\"}], \"mesh3d\": [{\"colorbar\": {\"outlinewidth\": 0, \"ticks\": \"\"}, \"type\": \"mesh3d\"}], \"parcoords\": [{\"line\": {\"colorbar\": {\"outlinewidth\": 0, \"ticks\": \"\"}}, \"type\": \"parcoords\"}], \"pie\": [{\"automargin\": true, \"type\": \"pie\"}], \"scatter\": [{\"marker\": {\"colorbar\": {\"outlinewidth\": 0, \"ticks\": \"\"}}, \"type\": \"scatter\"}], \"scatter3d\": [{\"line\": {\"colorbar\": {\"outlinewidth\": 0, \"ticks\": \"\"}}, \"marker\": {\"colorbar\": {\"outlinewidth\": 0, \"ticks\": \"\"}}, \"type\": \"scatter3d\"}], \"scattercarpet\": [{\"marker\": {\"colorbar\": {\"outlinewidth\": 0, \"ticks\": \"\"}}, \"type\": \"scattercarpet\"}], \"scattergeo\": [{\"marker\": {\"colorbar\": {\"outlinewidth\": 0, \"ticks\": \"\"}}, \"type\": \"scattergeo\"}], \"scattergl\": [{\"marker\": {\"colorbar\": {\"outlinewidth\": 0, \"ticks\": \"\"}}, \"type\": \"scattergl\"}], \"scattermapbox\": [{\"marker\": {\"colorbar\": {\"outlinewidth\": 0, \"ticks\": \"\"}}, \"type\": \"scattermapbox\"}], \"scatterpolar\": [{\"marker\": {\"colorbar\": {\"outlinewidth\": 0, \"ticks\": \"\"}}, \"type\": \"scatterpolar\"}], \"scatterpolargl\": [{\"marker\": {\"colorbar\": {\"outlinewidth\": 0, \"ticks\": \"\"}}, \"type\": \"scatterpolargl\"}], \"scatterternary\": [{\"marker\": {\"colorbar\": {\"outlinewidth\": 0, \"ticks\": \"\"}}, \"type\": \"scatterternary\"}], \"surface\": [{\"colorbar\": {\"outlinewidth\": 0, \"ticks\": \"\"}, \"colorscale\": [[0.0, \"#0d0887\"], [0.1111111111111111, \"#46039f\"], [0.2222222222222222, \"#7201a8\"], [0.3333333333333333, \"#9c179e\"], [0.4444444444444444, \"#bd3786\"], [0.5555555555555556, \"#d8576b\"], [0.6666666666666666, \"#ed7953\"], [0.7777777777777778, \"#fb9f3a\"], [0.8888888888888888, \"#fdca26\"], [1.0, \"#f0f921\"]], \"type\": \"surface\"}], \"table\": [{\"cells\": {\"fill\": {\"color\": \"#EBF0F8\"}, \"line\": {\"color\": \"white\"}}, \"header\": {\"fill\": {\"color\": \"#C8D4E3\"}, \"line\": {\"color\": \"white\"}}, \"type\": \"table\"}]}, \"layout\": {\"annotationdefaults\": {\"arrowcolor\": \"#2a3f5f\", \"arrowhead\": 0, \"arrowwidth\": 1}, \"autotypenumbers\": \"strict\", \"coloraxis\": {\"colorbar\": {\"outlinewidth\": 0, \"ticks\": \"\"}}, \"colorscale\": {\"diverging\": [[0, \"#8e0152\"], [0.1, \"#c51b7d\"], [0.2, \"#de77ae\"], [0.3, \"#f1b6da\"], [0.4, \"#fde0ef\"], [0.5, \"#f7f7f7\"], [0.6, \"#e6f5d0\"], [0.7, \"#b8e186\"], [0.8, \"#7fbc41\"], [0.9, \"#4d9221\"], [1, \"#276419\"]], \"sequential\": [[0.0, \"#0d0887\"], [0.1111111111111111, \"#46039f\"], [0.2222222222222222, \"#7201a8\"], [0.3333333333333333, \"#9c179e\"], [0.4444444444444444, \"#bd3786\"], [0.5555555555555556, \"#d8576b\"], [0.6666666666666666, \"#ed7953\"], [0.7777777777777778, \"#fb9f3a\"], [0.8888888888888888, \"#fdca26\"], [1.0, \"#f0f921\"]], \"sequentialminus\": [[0.0, \"#0d0887\"], [0.1111111111111111, \"#46039f\"], [0.2222222222222222, \"#7201a8\"], [0.3333333333333333, \"#9c179e\"], [0.4444444444444444, \"#bd3786\"], [0.5555555555555556, \"#d8576b\"], [0.6666666666666666, \"#ed7953\"], [0.7777777777777778, \"#fb9f3a\"], [0.8888888888888888, \"#fdca26\"], [1.0, \"#f0f921\"]]}, \"colorway\": [\"#636efa\", \"#EF553B\", \"#00cc96\", \"#ab63fa\", \"#FFA15A\", \"#19d3f3\", \"#FF6692\", \"#B6E880\", \"#FF97FF\", \"#FECB52\"], \"font\": {\"color\": \"#2a3f5f\"}, \"geo\": {\"bgcolor\": \"white\", \"lakecolor\": \"white\", \"landcolor\": \"#E5ECF6\", \"showlakes\": true, \"showland\": true, \"subunitcolor\": \"white\"}, \"hoverlabel\": {\"align\": \"left\"}, \"hovermode\": \"closest\", \"mapbox\": {\"style\": \"light\"}, \"paper_bgcolor\": \"white\", \"plot_bgcolor\": \"#E5ECF6\", \"polar\": {\"angularaxis\": {\"gridcolor\": \"white\", \"linecolor\": \"white\", \"ticks\": \"\"}, \"bgcolor\": \"#E5ECF6\", \"radialaxis\": {\"gridcolor\": \"white\", \"linecolor\": \"white\", \"ticks\": \"\"}}, \"scene\": {\"xaxis\": {\"backgroundcolor\": \"#E5ECF6\", \"gridcolor\": \"white\", \"gridwidth\": 2, \"linecolor\": \"white\", \"showbackground\": true, \"ticks\": \"\", \"zerolinecolor\": \"white\"}, \"yaxis\": {\"backgroundcolor\": \"#E5ECF6\", \"gridcolor\": \"white\", \"gridwidth\": 2, \"linecolor\": \"white\", \"showbackground\": true, \"ticks\": \"\", \"zerolinecolor\": \"white\"}, \"zaxis\": {\"backgroundcolor\": \"#E5ECF6\", \"gridcolor\": \"white\", \"gridwidth\": 2, \"linecolor\": \"white\", \"showbackground\": true, \"ticks\": \"\", \"zerolinecolor\": \"white\"}}, \"shapedefaults\": {\"line\": {\"color\": \"#2a3f5f\"}}, \"ternary\": {\"aaxis\": {\"gridcolor\": \"white\", \"linecolor\": \"white\", \"ticks\": \"\"}, \"baxis\": {\"gridcolor\": \"white\", \"linecolor\": \"white\", \"ticks\": \"\"}, \"bgcolor\": \"#E5ECF6\", \"caxis\": {\"gridcolor\": \"white\", \"linecolor\": \"white\", \"ticks\": \"\"}}, \"title\": {\"x\": 0.05}, \"xaxis\": {\"automargin\": true, \"gridcolor\": \"white\", \"linecolor\": \"white\", \"ticks\": \"\", \"title\": {\"standoff\": 15}, \"zerolinecolor\": \"white\", \"zerolinewidth\": 2}, \"yaxis\": {\"automargin\": true, \"gridcolor\": \"white\", \"linecolor\": \"white\", \"ticks\": \"\", \"title\": {\"standoff\": 15}, \"zerolinecolor\": \"white\", \"zerolinewidth\": 2}}}, \"title\": {\"text\": \"Evolution du ARI entre Janvier 2018 et Aout 2018\"}, \"xaxis\": {\"anchor\": \"y\", \"domain\": [0.0, 1.0], \"title\": {\"text\": \"Quadrimestre\"}}, \"yaxis\": {\"anchor\": \"x\", \"domain\": [0.0, 1.0], \"title\": {\"text\": \"ARI\"}, \"type\": \"log\"}},                        {\"responsive\": true}                    ).then(function(){\n",
       "                            \n",
       "var gd = document.getElementById('fa524745-29ec-42d8-844c-b100702f4e4e');\n",
       "var x = new MutationObserver(function (mutations, observer) {{\n",
       "        var display = window.getComputedStyle(gd).display;\n",
       "        if (!display || display === 'none') {{\n",
       "            console.log([gd, 'removed!']);\n",
       "            Plotly.purge(gd);\n",
       "            observer.disconnect();\n",
       "        }}\n",
       "}});\n",
       "\n",
       "// Listen for the removal of the full notebook cells\n",
       "var notebookContainer = gd.closest('#notebook-container');\n",
       "if (notebookContainer) {{\n",
       "    x.observe(notebookContainer, {childList: true});\n",
       "}}\n",
       "\n",
       "// Listen for the clearing of the current output cell\n",
       "var outputEl = gd.closest('.output');\n",
       "if (outputEl) {{\n",
       "    x.observe(outputEl, {childList: true});\n",
       "}}\n",
       "\n",
       "                        })                };                });            </script>        </div>"
      ]
     },
     "metadata": {},
     "output_type": "display_data"
    }
   ],
   "source": [
    "ARI=[ari_0,ari_1,ari_2]\n",
    "\n",
    "\n",
    "fig = px.scatter(x=[\"2018\",\"Q1 (janvier,février,mars,avril)\", \"Q2 (mai,juin,juillet,aout)\"], y=ARI, log_y=True,title=\"Evolution du ARI entre Janvier 2018 et Aout 2018\")\n",
    "\n",
    "fig.update_layout(\n",
    "    xaxis_title=\"Quadrimestre\",\n",
    "    yaxis_title=\"ARI\",\n",
    "\n",
    ")\n",
    "\n",
    "fig.add_hline(y=np.mean(ARI[1:]))\n",
    "\n",
    "\n",
    "fig.update_traces(marker_size=50)\n",
    "fig.show()"
   ]
  },
  {
   "cell_type": "code",
   "execution_count": 86,
   "metadata": {},
   "outputs": [
    {
     "data": {
      "text/html": [
       "<div>\n",
       "<style scoped>\n",
       "    .dataframe tbody tr th:only-of-type {\n",
       "        vertical-align: middle;\n",
       "    }\n",
       "\n",
       "    .dataframe tbody tr th {\n",
       "        vertical-align: top;\n",
       "    }\n",
       "\n",
       "    .dataframe thead th {\n",
       "        text-align: right;\n",
       "    }\n",
       "</style>\n",
       "<table border=\"1\" class=\"dataframe\">\n",
       "  <thead>\n",
       "    <tr style=\"text-align: right;\">\n",
       "      <th></th>\n",
       "      <th>customer_state</th>\n",
       "      <th>order_status</th>\n",
       "      <th>order_approved_at</th>\n",
       "      <th>review_score</th>\n",
       "      <th>payment_value</th>\n",
       "      <th>freight_value</th>\n",
       "      <th>product_weight_g</th>\n",
       "      <th>Nombre_commandes</th>\n",
       "      <th>Client_fidele_numeric</th>\n",
       "      <th>Client_fidele</th>\n",
       "      <th>year</th>\n",
       "      <th>Client_satisfaction</th>\n",
       "      <th>Client_satisfaction_numeric</th>\n",
       "      <th>Nombre_articles</th>\n",
       "      <th>Client_depensier</th>\n",
       "      <th>volume</th>\n",
       "      <th>month</th>\n",
       "      <th>Bimestre</th>\n",
       "      <th>Quadrimestre</th>\n",
       "      <th>PC1</th>\n",
       "      <th>PC2</th>\n",
       "      <th>PC3</th>\n",
       "    </tr>\n",
       "  </thead>\n",
       "  <tbody>\n",
       "    <tr>\n",
       "      <th>0</th>\n",
       "      <td>SP</td>\n",
       "      <td>delivered</td>\n",
       "      <td>2016-10-06 15:50:54</td>\n",
       "      <td>4</td>\n",
       "      <td>45.46</td>\n",
       "      <td>15.56</td>\n",
       "      <td>300.0</td>\n",
       "      <td>3</td>\n",
       "      <td>1</td>\n",
       "      <td>client fidèle</td>\n",
       "      <td>2016</td>\n",
       "      <td>Client satisfait</td>\n",
       "      <td>1</td>\n",
       "      <td>Un article</td>\n",
       "      <td>Client non dépensier</td>\n",
       "      <td>4096.0</td>\n",
       "      <td>10</td>\n",
       "      <td>B5</td>\n",
       "      <td>Q3</td>\n",
       "      <td>-1.172622</td>\n",
       "      <td>0.717741</td>\n",
       "      <td>5.380164</td>\n",
       "    </tr>\n",
       "    <tr>\n",
       "      <th>1</th>\n",
       "      <td>SP</td>\n",
       "      <td>delivered</td>\n",
       "      <td>2017-09-27 08:35:13</td>\n",
       "      <td>5</td>\n",
       "      <td>56.78</td>\n",
       "      <td>7.78</td>\n",
       "      <td>200.0</td>\n",
       "      <td>3</td>\n",
       "      <td>1</td>\n",
       "      <td>client fidèle</td>\n",
       "      <td>2017</td>\n",
       "      <td>Client satisfait</td>\n",
       "      <td>1</td>\n",
       "      <td>Plusieurs articles</td>\n",
       "      <td>Client non dépensier</td>\n",
       "      <td>352.0</td>\n",
       "      <td>9</td>\n",
       "      <td>B5</td>\n",
       "      <td>Q3</td>\n",
       "      <td>-1.570393</td>\n",
       "      <td>1.220700</td>\n",
       "      <td>5.312687</td>\n",
       "    </tr>\n",
       "    <tr>\n",
       "      <th>2</th>\n",
       "      <td>SP</td>\n",
       "      <td>delivered</td>\n",
       "      <td>2018-06-28 12:40:56</td>\n",
       "      <td>5</td>\n",
       "      <td>34.92</td>\n",
       "      <td>8.93</td>\n",
       "      <td>600.0</td>\n",
       "      <td>3</td>\n",
       "      <td>1</td>\n",
       "      <td>client fidèle</td>\n",
       "      <td>2018</td>\n",
       "      <td>Client satisfait</td>\n",
       "      <td>1</td>\n",
       "      <td>Un article</td>\n",
       "      <td>Client non dépensier</td>\n",
       "      <td>2784.0</td>\n",
       "      <td>6</td>\n",
       "      <td>B3</td>\n",
       "      <td>Q2</td>\n",
       "      <td>-1.456897</td>\n",
       "      <td>1.237699</td>\n",
       "      <td>5.318745</td>\n",
       "    </tr>\n",
       "    <tr>\n",
       "      <th>3</th>\n",
       "      <td>RS</td>\n",
       "      <td>delivered</td>\n",
       "      <td>2016-10-06 16:03:44</td>\n",
       "      <td>4</td>\n",
       "      <td>39.09</td>\n",
       "      <td>17.19</td>\n",
       "      <td>400.0</td>\n",
       "      <td>1</td>\n",
       "      <td>0</td>\n",
       "      <td>client non fidèle</td>\n",
       "      <td>2016</td>\n",
       "      <td>Client satisfait</td>\n",
       "      <td>1</td>\n",
       "      <td>Un article</td>\n",
       "      <td>Client non dépensier</td>\n",
       "      <td>4096.0</td>\n",
       "      <td>10</td>\n",
       "      <td>B5</td>\n",
       "      <td>Q3</td>\n",
       "      <td>-0.819087</td>\n",
       "      <td>0.151785</td>\n",
       "      <td>-0.402089</td>\n",
       "    </tr>\n",
       "    <tr>\n",
       "      <th>4</th>\n",
       "      <td>RS</td>\n",
       "      <td>delivered</td>\n",
       "      <td>2016-10-05 03:11:49</td>\n",
       "      <td>3</td>\n",
       "      <td>53.73</td>\n",
       "      <td>17.24</td>\n",
       "      <td>767.0</td>\n",
       "      <td>1</td>\n",
       "      <td>0</td>\n",
       "      <td>client non fidèle</td>\n",
       "      <td>2016</td>\n",
       "      <td>Client non satisfait</td>\n",
       "      <td>0</td>\n",
       "      <td>Un article</td>\n",
       "      <td>Client non dépensier</td>\n",
       "      <td>4160.0</td>\n",
       "      <td>10</td>\n",
       "      <td>B5</td>\n",
       "      <td>Q3</td>\n",
       "      <td>-0.484263</td>\n",
       "      <td>-2.095929</td>\n",
       "      <td>-0.157933</td>\n",
       "    </tr>\n",
       "  </tbody>\n",
       "</table>\n",
       "</div>"
      ],
      "text/plain": [
       "  customer_state order_status    order_approved_at  review_score  \\\n",
       "0             SP    delivered  2016-10-06 15:50:54             4   \n",
       "1             SP    delivered  2017-09-27 08:35:13             5   \n",
       "2             SP    delivered  2018-06-28 12:40:56             5   \n",
       "3             RS    delivered  2016-10-06 16:03:44             4   \n",
       "4             RS    delivered  2016-10-05 03:11:49             3   \n",
       "\n",
       "   payment_value  freight_value  product_weight_g  Nombre_commandes  \\\n",
       "0          45.46          15.56             300.0                 3   \n",
       "1          56.78           7.78             200.0                 3   \n",
       "2          34.92           8.93             600.0                 3   \n",
       "3          39.09          17.19             400.0                 1   \n",
       "4          53.73          17.24             767.0                 1   \n",
       "\n",
       "   Client_fidele_numeric      Client_fidele  year   Client_satisfaction  \\\n",
       "0                      1      client fidèle  2016      Client satisfait   \n",
       "1                      1      client fidèle  2017      Client satisfait   \n",
       "2                      1      client fidèle  2018      Client satisfait   \n",
       "3                      0  client non fidèle  2016      Client satisfait   \n",
       "4                      0  client non fidèle  2016  Client non satisfait   \n",
       "\n",
       "   Client_satisfaction_numeric     Nombre_articles      Client_depensier  \\\n",
       "0                            1          Un article  Client non dépensier   \n",
       "1                            1  Plusieurs articles  Client non dépensier   \n",
       "2                            1          Un article  Client non dépensier   \n",
       "3                            1          Un article  Client non dépensier   \n",
       "4                            0          Un article  Client non dépensier   \n",
       "\n",
       "   volume month Bimestre Quadrimestre       PC1       PC2       PC3  \n",
       "0  4096.0    10       B5           Q3 -1.172622  0.717741  5.380164  \n",
       "1   352.0     9       B5           Q3 -1.570393  1.220700  5.312687  \n",
       "2  2784.0     6       B3           Q2 -1.456897  1.237699  5.318745  \n",
       "3  4096.0    10       B5           Q3 -0.819087  0.151785 -0.402089  \n",
       "4  4160.0    10       B5           Q3 -0.484263 -2.095929 -0.157933  "
      ]
     },
     "execution_count": 86,
     "metadata": {},
     "output_type": "execute_result"
    }
   ],
   "source": [
    "df.head()"
   ]
  },
  {
   "cell_type": "markdown",
   "metadata": {},
   "source": [
    "# Testons le contrat de maintenance par BIMESTRE"
   ]
  },
  {
   "cell_type": "code",
   "execution_count": 87,
   "metadata": {},
   "outputs": [
    {
     "name": "stdout",
     "output_type": "stream",
     "text": [
      "['B5' 'B4' 'B1' 'B6' 'B2' 'B3']\n",
      "   review_score  payment_value  freight_value  product_weight_g  \\\n",
      "0             4          45.46          15.56             300.0   \n",
      "1             5          56.78           7.78             200.0   \n",
      "2             4          39.09          17.19             400.0   \n",
      "3             3          53.73          17.24             767.0   \n",
      "4             1         133.46          13.56            2050.0   \n",
      "\n",
      "   Nombre_commandes  Client_fidele_numeric  year  Client_satisfaction_numeric  \\\n",
      "0                 3                      1  2016                            1   \n",
      "1                 3                      1  2017                            1   \n",
      "2                 1                      0  2016                            1   \n",
      "3                 1                      0  2016                            0   \n",
      "4                 1                      0  2016                            0   \n",
      "\n",
      "    volume       PC1       PC2       PC3  \n",
      "0   4096.0 -1.172622  0.717741  5.380164  \n",
      "1    352.0 -1.570393  1.220700  5.312687  \n",
      "2   4096.0 -0.819087  0.151785 -0.402089  \n",
      "3   4160.0 -0.484263 -2.095929 -0.157933  \n",
      "4  14960.0  0.096908 -3.129357 -0.025936  \n",
      "57141\n"
     ]
    },
    {
     "data": {
      "text/plain": [
       "KMeans(max_iter=3000, n_clusters=4, n_init=5)"
      ]
     },
     "execution_count": 87,
     "metadata": {},
     "output_type": "execute_result"
    }
   ],
   "source": [
    "\n",
    "\n",
    "numerics = ['int16', 'int32', 'int64', 'float16', 'float32', 'float64']\n",
    "df_kmeans_B1=df\n",
    "df_kmeans_B1=df_kmeans_B1.query(\"year!=2018 or Bimestre=='B1' \")\n",
    "print(df_kmeans_B1.Bimestre.unique())\n",
    "df_kmeans_B1=df_kmeans_B1.reset_index(drop=True)\n",
    "df_kmeans_B1=df_kmeans_B1.select_dtypes(include=numerics)\n",
    "\n",
    "print(df_kmeans_B1.head())\n",
    "\n",
    "\n",
    "\n",
    "\n",
    "df_pca=df_kmeans_B1.drop([\"PC1\",\"PC2\",\"PC3\"],axis=1)\n",
    "df_pca=df_pca.drop([\"year\"],axis=1)\n",
    "df_pca=df_pca.select_dtypes(include=numerics)\n",
    "df_pca= df_pca / df_pca.std(axis=0)\n",
    "n_components = 3\n",
    "pca = PCA(n_components=n_components)\n",
    "reduced = pca.fit_transform(df_pca)\n",
    "for i in range(0, n_components):\n",
    "    df_pca['PC' + str(i + 1)] = reduced[:, i]\n",
    " \n",
    "df_kmeans_B1[\"PC1\"]=df_pca[\"PC1\"]\n",
    "df_kmeans_B1[\"PC2\"]=df_pca[\"PC2\"]\n",
    "df_kmeans_B1[\"PC3\"]=df_pca[\"PC3\"]\n",
    "print(len(df_kmeans_B1))\n",
    "\n",
    "\n",
    "df_kmeans_B1=df_kmeans_B1[[\"PC1\",\"PC2\",\"PC3\"]]\n",
    "\n",
    "\n",
    "kmeans_B1 = KMeans(n_clusters=4,n_init=5,max_iter=3000)\n",
    "kmeans_B1.fit(df_kmeans_B1)\n"
   ]
  },
  {
   "cell_type": "code",
   "execution_count": 89,
   "metadata": {},
   "outputs": [
    {
     "name": "stdout",
     "output_type": "stream",
     "text": [
      "['B5' 'B4' 'B2' 'B1' 'B6' 'B3']\n",
      "   review_score  payment_value  freight_value  product_weight_g  \\\n",
      "0             4          45.46          15.56             300.0   \n",
      "1             5          56.78           7.78             200.0   \n",
      "2             4          39.09          17.19             400.0   \n",
      "3             3          53.73          17.24             767.0   \n",
      "4             1         133.46          13.56            2050.0   \n",
      "\n",
      "   Nombre_commandes  Client_fidele_numeric  year  Client_satisfaction_numeric  \\\n",
      "0                 3                      1  2016                            1   \n",
      "1                 3                      1  2017                            1   \n",
      "2                 1                      0  2016                            1   \n",
      "3                 1                      0  2016                            0   \n",
      "4                 1                      0  2016                            0   \n",
      "\n",
      "    volume       PC1       PC2       PC3  \n",
      "0   4096.0 -1.172622  0.717741  5.380164  \n",
      "1    352.0 -1.570393  1.220700  5.312687  \n",
      "2   4096.0 -0.819087  0.151785 -0.402089  \n",
      "3   4160.0 -0.484263 -2.095929 -0.157933  \n",
      "4  14960.0  0.096908 -3.129357 -0.025936  \n",
      "70816\n"
     ]
    },
    {
     "data": {
      "text/plain": [
       "KMeans(max_iter=3000, n_clusters=4, n_init=5)"
      ]
     },
     "execution_count": 89,
     "metadata": {},
     "output_type": "execute_result"
    }
   ],
   "source": [
    "numerics = ['int16', 'int32', 'int64', 'float16', 'float32', 'float64']\n",
    "df_kmeans_B2=df\n",
    "df_kmeans_B2=df_kmeans_B2.query(\"year!=2018 or Bimestre=='B1'or Bimestre=='B2' \")\n",
    "print(df_kmeans_B2.Bimestre.unique())\n",
    "df_kmeans_B2=df_kmeans_B2.reset_index(drop=True)\n",
    "df_kmeans_B2=df_kmeans_B2.select_dtypes(include=numerics)\n",
    "\n",
    "print(df_kmeans_B2.head())\n",
    "\n",
    "\n",
    "\n",
    "\n",
    "df_pca=df_kmeans_B2.drop([\"PC1\",\"PC2\",\"PC3\"],axis=1)\n",
    "df_pca=df_pca.drop([\"year\"],axis=1)\n",
    "df_pca=df_pca.select_dtypes(include=numerics)\n",
    "df_pca= df_pca / df_pca.std(axis=0)\n",
    "n_components = 3\n",
    "pca = PCA(n_components=n_components)\n",
    "reduced = pca.fit_transform(df_pca)\n",
    "for i in range(0, n_components):\n",
    "    df_pca['PC' + str(i + 1)] = reduced[:, i]\n",
    " \n",
    "df_kmeans_B2[\"PC1\"]=df_pca[\"PC1\"]\n",
    "df_kmeans_B2[\"PC2\"]=df_pca[\"PC2\"]\n",
    "df_kmeans_B2[\"PC3\"]=df_pca[\"PC3\"]\n",
    "print(len(df_kmeans_B2))\n",
    "\n",
    "\n",
    "df_kmeans_B2=df_kmeans_B2[[\"PC1\",\"PC2\",\"PC3\"]]\n",
    "\n",
    "\n",
    "kmeans_B2 = KMeans(n_clusters=4,n_init=5,max_iter=3000)\n",
    "kmeans_B2.fit(df_kmeans_B2)\n"
   ]
  },
  {
   "cell_type": "code",
   "execution_count": 92,
   "metadata": {},
   "outputs": [
    {
     "name": "stdout",
     "output_type": "stream",
     "text": [
      "['B5' 'B3' 'B4' 'B2' 'B1' 'B6']\n",
      "   review_score  payment_value  freight_value  product_weight_g  \\\n",
      "0             4          45.46          15.56             300.0   \n",
      "1             5          56.78           7.78             200.0   \n",
      "2             5          34.92           8.93             600.0   \n",
      "3             4          39.09          17.19             400.0   \n",
      "4             3          53.73          17.24             767.0   \n",
      "\n",
      "   Nombre_commandes  Client_fidele_numeric  year  Client_satisfaction_numeric  \\\n",
      "0                 3                      1  2016                            1   \n",
      "1                 3                      1  2017                            1   \n",
      "2                 3                      1  2018                            1   \n",
      "3                 1                      0  2016                            1   \n",
      "4                 1                      0  2016                            0   \n",
      "\n",
      "   volume       PC1       PC2       PC3  \n",
      "0  4096.0 -1.172622  0.717741  5.380164  \n",
      "1   352.0 -1.570393  1.220700  5.312687  \n",
      "2  2784.0 -1.456897  1.237699  5.318745  \n",
      "3  4096.0 -0.819087  0.151785 -0.402089  \n",
      "4  4160.0 -0.484263 -2.095929 -0.157933  \n",
      "83811\n"
     ]
    },
    {
     "data": {
      "text/plain": [
       "KMeans(max_iter=3000, n_clusters=4, n_init=5)"
      ]
     },
     "execution_count": 92,
     "metadata": {},
     "output_type": "execute_result"
    }
   ],
   "source": [
    "numerics = ['int16', 'int32', 'int64', 'float16', 'float32', 'float64']\n",
    "df_kmeans_B3=df\n",
    "df_kmeans_B3=df_kmeans_B3.query(\"year!=2018 or Bimestre=='B1'or Bimestre=='B2'or Bimestre=='B3'\")\n",
    "print(df_kmeans_B3.Bimestre.unique())\n",
    "df_kmeans_B3=df_kmeans_B3.reset_index(drop=True)\n",
    "df_kmeans_B3=df_kmeans_B3.select_dtypes(include=numerics)\n",
    "\n",
    "print(df_kmeans_B3.head())\n",
    "\n",
    "\n",
    "\n",
    "\n",
    "df_pca=df_kmeans_B3.drop([\"PC1\",\"PC2\",\"PC3\"],axis=1)\n",
    "df_pca=df_pca.drop([\"year\"],axis=1)\n",
    "df_pca=df_pca.select_dtypes(include=numerics)\n",
    "df_pca= df_pca / df_pca.std(axis=0)\n",
    "n_components = 3\n",
    "pca = PCA(n_components=n_components)\n",
    "reduced = pca.fit_transform(df_pca)\n",
    "for i in range(0, n_components):\n",
    "    df_pca['PC' + str(i + 1)] = reduced[:, i]\n",
    " \n",
    "df_kmeans_B3[\"PC1\"]=df_pca[\"PC1\"]\n",
    "df_kmeans_B3[\"PC2\"]=df_pca[\"PC2\"]\n",
    "df_kmeans_B3[\"PC3\"]=df_pca[\"PC3\"]\n",
    "print(len(df_kmeans_B3))\n",
    "\n",
    "\n",
    "df_kmeans_B3=df_kmeans_B3[[\"PC1\",\"PC2\",\"PC3\"]]\n",
    "\n",
    "\n",
    "kmeans_B3 = KMeans(n_clusters=4,n_init=5,max_iter=3000)\n",
    "kmeans_B3.fit(df_kmeans_B3)\n"
   ]
  },
  {
   "cell_type": "code",
   "execution_count": 103,
   "metadata": {},
   "outputs": [
    {
     "data": {
      "text/plain": [
       "1.0"
      ]
     },
     "execution_count": 103,
     "metadata": {},
     "output_type": "execute_result"
    }
   ],
   "source": [
    "ari_0=ari(kmeans_2018.predict(df_kmeans_2018),kmeans_2018.predict(df_kmeans_2018))\n",
    "ari_0"
   ]
  },
  {
   "cell_type": "code",
   "execution_count": 104,
   "metadata": {},
   "outputs": [
    {
     "data": {
      "text/plain": [
       "0.9995979128509104"
      ]
     },
     "execution_count": 104,
     "metadata": {},
     "output_type": "execute_result"
    }
   ],
   "source": [
    "ari_1=ari(kmeans_2018.predict(df_kmeans_B1),kmeans_B1.predict(df_kmeans_B1))\n",
    "ari_1"
   ]
  },
  {
   "cell_type": "code",
   "execution_count": 97,
   "metadata": {},
   "outputs": [
    {
     "data": {
      "text/plain": [
       "0.9959797657485405"
      ]
     },
     "execution_count": 97,
     "metadata": {},
     "output_type": "execute_result"
    }
   ],
   "source": [
    "ari_2=ari(kmeans_B1.predict(df_kmeans_B2),kmeans_B2.predict(df_kmeans_B2))\n",
    "ari_2"
   ]
  },
  {
   "cell_type": "code",
   "execution_count": 99,
   "metadata": {},
   "outputs": [
    {
     "data": {
      "text/plain": [
       "0.9982713581601848"
      ]
     },
     "execution_count": 99,
     "metadata": {},
     "output_type": "execute_result"
    }
   ],
   "source": [
    "ari_3=ari(kmeans_B2.predict(df_kmeans_B3),kmeans_B3.predict(df_kmeans_B3))\n",
    "ari_3"
   ]
  },
  {
   "cell_type": "code",
   "execution_count": 101,
   "metadata": {},
   "outputs": [
    {
     "data": {
      "text/plain": [
       "0.9982713581601848"
      ]
     },
     "execution_count": 101,
     "metadata": {},
     "output_type": "execute_result"
    }
   ],
   "source": [
    "ari_4=ari(kmeans_B3.predict(df_kmeans_all),kmeans_ALL.predict(df_kmeans_all))\n",
    "ari_3"
   ]
  },
  {
   "cell_type": "code",
   "execution_count": 106,
   "metadata": {},
   "outputs": [
    {
     "data": {
      "application/vnd.plotly.v1+json": {
       "config": {
        "plotlyServerURL": "https://plot.ly"
       },
       "data": [
        {
         "hovertemplate": "x=%{x}<br>y=%{y}<extra></extra>",
         "legendgroup": "",
         "marker": {
          "color": "#636efa",
          "size": 50,
          "symbol": "circle"
         },
         "mode": "markers",
         "name": "",
         "orientation": "v",
         "showlegend": false,
         "type": "scatter",
         "x": [
          "2018",
          "B1 (janvier-février)",
          "B2 (mars-avril)",
          "B3 (mai-juin)",
          "B4 (juillet-aout)"
         ],
         "xaxis": "x",
         "y": [
          1,
          0.9995979128509104,
          0.9959797657485405,
          0.9982713581601848,
          0.9990906277915961
         ],
         "yaxis": "y"
        }
       ],
       "layout": {
        "legend": {
         "tracegroupgap": 0
        },
        "shapes": [
         {
          "type": "line",
          "x0": 0,
          "x1": 1,
          "xref": "x domain",
          "y0": 0.9982349161378079,
          "y1": 0.9982349161378079,
          "yref": "y"
         }
        ],
        "template": {
         "data": {
          "bar": [
           {
            "error_x": {
             "color": "#2a3f5f"
            },
            "error_y": {
             "color": "#2a3f5f"
            },
            "marker": {
             "line": {
              "color": "#E5ECF6",
              "width": 0.5
             }
            },
            "type": "bar"
           }
          ],
          "barpolar": [
           {
            "marker": {
             "line": {
              "color": "#E5ECF6",
              "width": 0.5
             }
            },
            "type": "barpolar"
           }
          ],
          "carpet": [
           {
            "aaxis": {
             "endlinecolor": "#2a3f5f",
             "gridcolor": "white",
             "linecolor": "white",
             "minorgridcolor": "white",
             "startlinecolor": "#2a3f5f"
            },
            "baxis": {
             "endlinecolor": "#2a3f5f",
             "gridcolor": "white",
             "linecolor": "white",
             "minorgridcolor": "white",
             "startlinecolor": "#2a3f5f"
            },
            "type": "carpet"
           }
          ],
          "choropleth": [
           {
            "colorbar": {
             "outlinewidth": 0,
             "ticks": ""
            },
            "type": "choropleth"
           }
          ],
          "contour": [
           {
            "colorbar": {
             "outlinewidth": 0,
             "ticks": ""
            },
            "colorscale": [
             [
              0,
              "#0d0887"
             ],
             [
              0.1111111111111111,
              "#46039f"
             ],
             [
              0.2222222222222222,
              "#7201a8"
             ],
             [
              0.3333333333333333,
              "#9c179e"
             ],
             [
              0.4444444444444444,
              "#bd3786"
             ],
             [
              0.5555555555555556,
              "#d8576b"
             ],
             [
              0.6666666666666666,
              "#ed7953"
             ],
             [
              0.7777777777777778,
              "#fb9f3a"
             ],
             [
              0.8888888888888888,
              "#fdca26"
             ],
             [
              1,
              "#f0f921"
             ]
            ],
            "type": "contour"
           }
          ],
          "contourcarpet": [
           {
            "colorbar": {
             "outlinewidth": 0,
             "ticks": ""
            },
            "type": "contourcarpet"
           }
          ],
          "heatmap": [
           {
            "colorbar": {
             "outlinewidth": 0,
             "ticks": ""
            },
            "colorscale": [
             [
              0,
              "#0d0887"
             ],
             [
              0.1111111111111111,
              "#46039f"
             ],
             [
              0.2222222222222222,
              "#7201a8"
             ],
             [
              0.3333333333333333,
              "#9c179e"
             ],
             [
              0.4444444444444444,
              "#bd3786"
             ],
             [
              0.5555555555555556,
              "#d8576b"
             ],
             [
              0.6666666666666666,
              "#ed7953"
             ],
             [
              0.7777777777777778,
              "#fb9f3a"
             ],
             [
              0.8888888888888888,
              "#fdca26"
             ],
             [
              1,
              "#f0f921"
             ]
            ],
            "type": "heatmap"
           }
          ],
          "heatmapgl": [
           {
            "colorbar": {
             "outlinewidth": 0,
             "ticks": ""
            },
            "colorscale": [
             [
              0,
              "#0d0887"
             ],
             [
              0.1111111111111111,
              "#46039f"
             ],
             [
              0.2222222222222222,
              "#7201a8"
             ],
             [
              0.3333333333333333,
              "#9c179e"
             ],
             [
              0.4444444444444444,
              "#bd3786"
             ],
             [
              0.5555555555555556,
              "#d8576b"
             ],
             [
              0.6666666666666666,
              "#ed7953"
             ],
             [
              0.7777777777777778,
              "#fb9f3a"
             ],
             [
              0.8888888888888888,
              "#fdca26"
             ],
             [
              1,
              "#f0f921"
             ]
            ],
            "type": "heatmapgl"
           }
          ],
          "histogram": [
           {
            "marker": {
             "colorbar": {
              "outlinewidth": 0,
              "ticks": ""
             }
            },
            "type": "histogram"
           }
          ],
          "histogram2d": [
           {
            "colorbar": {
             "outlinewidth": 0,
             "ticks": ""
            },
            "colorscale": [
             [
              0,
              "#0d0887"
             ],
             [
              0.1111111111111111,
              "#46039f"
             ],
             [
              0.2222222222222222,
              "#7201a8"
             ],
             [
              0.3333333333333333,
              "#9c179e"
             ],
             [
              0.4444444444444444,
              "#bd3786"
             ],
             [
              0.5555555555555556,
              "#d8576b"
             ],
             [
              0.6666666666666666,
              "#ed7953"
             ],
             [
              0.7777777777777778,
              "#fb9f3a"
             ],
             [
              0.8888888888888888,
              "#fdca26"
             ],
             [
              1,
              "#f0f921"
             ]
            ],
            "type": "histogram2d"
           }
          ],
          "histogram2dcontour": [
           {
            "colorbar": {
             "outlinewidth": 0,
             "ticks": ""
            },
            "colorscale": [
             [
              0,
              "#0d0887"
             ],
             [
              0.1111111111111111,
              "#46039f"
             ],
             [
              0.2222222222222222,
              "#7201a8"
             ],
             [
              0.3333333333333333,
              "#9c179e"
             ],
             [
              0.4444444444444444,
              "#bd3786"
             ],
             [
              0.5555555555555556,
              "#d8576b"
             ],
             [
              0.6666666666666666,
              "#ed7953"
             ],
             [
              0.7777777777777778,
              "#fb9f3a"
             ],
             [
              0.8888888888888888,
              "#fdca26"
             ],
             [
              1,
              "#f0f921"
             ]
            ],
            "type": "histogram2dcontour"
           }
          ],
          "mesh3d": [
           {
            "colorbar": {
             "outlinewidth": 0,
             "ticks": ""
            },
            "type": "mesh3d"
           }
          ],
          "parcoords": [
           {
            "line": {
             "colorbar": {
              "outlinewidth": 0,
              "ticks": ""
             }
            },
            "type": "parcoords"
           }
          ],
          "pie": [
           {
            "automargin": true,
            "type": "pie"
           }
          ],
          "scatter": [
           {
            "marker": {
             "colorbar": {
              "outlinewidth": 0,
              "ticks": ""
             }
            },
            "type": "scatter"
           }
          ],
          "scatter3d": [
           {
            "line": {
             "colorbar": {
              "outlinewidth": 0,
              "ticks": ""
             }
            },
            "marker": {
             "colorbar": {
              "outlinewidth": 0,
              "ticks": ""
             }
            },
            "type": "scatter3d"
           }
          ],
          "scattercarpet": [
           {
            "marker": {
             "colorbar": {
              "outlinewidth": 0,
              "ticks": ""
             }
            },
            "type": "scattercarpet"
           }
          ],
          "scattergeo": [
           {
            "marker": {
             "colorbar": {
              "outlinewidth": 0,
              "ticks": ""
             }
            },
            "type": "scattergeo"
           }
          ],
          "scattergl": [
           {
            "marker": {
             "colorbar": {
              "outlinewidth": 0,
              "ticks": ""
             }
            },
            "type": "scattergl"
           }
          ],
          "scattermapbox": [
           {
            "marker": {
             "colorbar": {
              "outlinewidth": 0,
              "ticks": ""
             }
            },
            "type": "scattermapbox"
           }
          ],
          "scatterpolar": [
           {
            "marker": {
             "colorbar": {
              "outlinewidth": 0,
              "ticks": ""
             }
            },
            "type": "scatterpolar"
           }
          ],
          "scatterpolargl": [
           {
            "marker": {
             "colorbar": {
              "outlinewidth": 0,
              "ticks": ""
             }
            },
            "type": "scatterpolargl"
           }
          ],
          "scatterternary": [
           {
            "marker": {
             "colorbar": {
              "outlinewidth": 0,
              "ticks": ""
             }
            },
            "type": "scatterternary"
           }
          ],
          "surface": [
           {
            "colorbar": {
             "outlinewidth": 0,
             "ticks": ""
            },
            "colorscale": [
             [
              0,
              "#0d0887"
             ],
             [
              0.1111111111111111,
              "#46039f"
             ],
             [
              0.2222222222222222,
              "#7201a8"
             ],
             [
              0.3333333333333333,
              "#9c179e"
             ],
             [
              0.4444444444444444,
              "#bd3786"
             ],
             [
              0.5555555555555556,
              "#d8576b"
             ],
             [
              0.6666666666666666,
              "#ed7953"
             ],
             [
              0.7777777777777778,
              "#fb9f3a"
             ],
             [
              0.8888888888888888,
              "#fdca26"
             ],
             [
              1,
              "#f0f921"
             ]
            ],
            "type": "surface"
           }
          ],
          "table": [
           {
            "cells": {
             "fill": {
              "color": "#EBF0F8"
             },
             "line": {
              "color": "white"
             }
            },
            "header": {
             "fill": {
              "color": "#C8D4E3"
             },
             "line": {
              "color": "white"
             }
            },
            "type": "table"
           }
          ]
         },
         "layout": {
          "annotationdefaults": {
           "arrowcolor": "#2a3f5f",
           "arrowhead": 0,
           "arrowwidth": 1
          },
          "autotypenumbers": "strict",
          "coloraxis": {
           "colorbar": {
            "outlinewidth": 0,
            "ticks": ""
           }
          },
          "colorscale": {
           "diverging": [
            [
             0,
             "#8e0152"
            ],
            [
             0.1,
             "#c51b7d"
            ],
            [
             0.2,
             "#de77ae"
            ],
            [
             0.3,
             "#f1b6da"
            ],
            [
             0.4,
             "#fde0ef"
            ],
            [
             0.5,
             "#f7f7f7"
            ],
            [
             0.6,
             "#e6f5d0"
            ],
            [
             0.7,
             "#b8e186"
            ],
            [
             0.8,
             "#7fbc41"
            ],
            [
             0.9,
             "#4d9221"
            ],
            [
             1,
             "#276419"
            ]
           ],
           "sequential": [
            [
             0,
             "#0d0887"
            ],
            [
             0.1111111111111111,
             "#46039f"
            ],
            [
             0.2222222222222222,
             "#7201a8"
            ],
            [
             0.3333333333333333,
             "#9c179e"
            ],
            [
             0.4444444444444444,
             "#bd3786"
            ],
            [
             0.5555555555555556,
             "#d8576b"
            ],
            [
             0.6666666666666666,
             "#ed7953"
            ],
            [
             0.7777777777777778,
             "#fb9f3a"
            ],
            [
             0.8888888888888888,
             "#fdca26"
            ],
            [
             1,
             "#f0f921"
            ]
           ],
           "sequentialminus": [
            [
             0,
             "#0d0887"
            ],
            [
             0.1111111111111111,
             "#46039f"
            ],
            [
             0.2222222222222222,
             "#7201a8"
            ],
            [
             0.3333333333333333,
             "#9c179e"
            ],
            [
             0.4444444444444444,
             "#bd3786"
            ],
            [
             0.5555555555555556,
             "#d8576b"
            ],
            [
             0.6666666666666666,
             "#ed7953"
            ],
            [
             0.7777777777777778,
             "#fb9f3a"
            ],
            [
             0.8888888888888888,
             "#fdca26"
            ],
            [
             1,
             "#f0f921"
            ]
           ]
          },
          "colorway": [
           "#636efa",
           "#EF553B",
           "#00cc96",
           "#ab63fa",
           "#FFA15A",
           "#19d3f3",
           "#FF6692",
           "#B6E880",
           "#FF97FF",
           "#FECB52"
          ],
          "font": {
           "color": "#2a3f5f"
          },
          "geo": {
           "bgcolor": "white",
           "lakecolor": "white",
           "landcolor": "#E5ECF6",
           "showlakes": true,
           "showland": true,
           "subunitcolor": "white"
          },
          "hoverlabel": {
           "align": "left"
          },
          "hovermode": "closest",
          "mapbox": {
           "style": "light"
          },
          "paper_bgcolor": "white",
          "plot_bgcolor": "#E5ECF6",
          "polar": {
           "angularaxis": {
            "gridcolor": "white",
            "linecolor": "white",
            "ticks": ""
           },
           "bgcolor": "#E5ECF6",
           "radialaxis": {
            "gridcolor": "white",
            "linecolor": "white",
            "ticks": ""
           }
          },
          "scene": {
           "xaxis": {
            "backgroundcolor": "#E5ECF6",
            "gridcolor": "white",
            "gridwidth": 2,
            "linecolor": "white",
            "showbackground": true,
            "ticks": "",
            "zerolinecolor": "white"
           },
           "yaxis": {
            "backgroundcolor": "#E5ECF6",
            "gridcolor": "white",
            "gridwidth": 2,
            "linecolor": "white",
            "showbackground": true,
            "ticks": "",
            "zerolinecolor": "white"
           },
           "zaxis": {
            "backgroundcolor": "#E5ECF6",
            "gridcolor": "white",
            "gridwidth": 2,
            "linecolor": "white",
            "showbackground": true,
            "ticks": "",
            "zerolinecolor": "white"
           }
          },
          "shapedefaults": {
           "line": {
            "color": "#2a3f5f"
           }
          },
          "ternary": {
           "aaxis": {
            "gridcolor": "white",
            "linecolor": "white",
            "ticks": ""
           },
           "baxis": {
            "gridcolor": "white",
            "linecolor": "white",
            "ticks": ""
           },
           "bgcolor": "#E5ECF6",
           "caxis": {
            "gridcolor": "white",
            "linecolor": "white",
            "ticks": ""
           }
          },
          "title": {
           "x": 0.05
          },
          "xaxis": {
           "automargin": true,
           "gridcolor": "white",
           "linecolor": "white",
           "ticks": "",
           "title": {
            "standoff": 15
           },
           "zerolinecolor": "white",
           "zerolinewidth": 2
          },
          "yaxis": {
           "automargin": true,
           "gridcolor": "white",
           "linecolor": "white",
           "ticks": "",
           "title": {
            "standoff": 15
           },
           "zerolinecolor": "white",
           "zerolinewidth": 2
          }
         }
        },
        "title": {
         "text": "Evolution du ARI entre Janvier 2018 et Aout 2018"
        },
        "xaxis": {
         "anchor": "y",
         "domain": [
          0,
          1
         ],
         "title": {
          "text": "Quadrimestre"
         }
        },
        "yaxis": {
         "anchor": "x",
         "domain": [
          0,
          1
         ],
         "title": {
          "text": "ARI"
         },
         "type": "log"
        }
       }
      },
      "text/html": [
       "<div>                            <div id=\"1cf0b05a-53fb-40e5-9083-c810091848b5\" class=\"plotly-graph-div\" style=\"height:525px; width:100%;\"></div>            <script type=\"text/javascript\">                require([\"plotly\"], function(Plotly) {                    window.PLOTLYENV=window.PLOTLYENV || {};                                    if (document.getElementById(\"1cf0b05a-53fb-40e5-9083-c810091848b5\")) {                    Plotly.newPlot(                        \"1cf0b05a-53fb-40e5-9083-c810091848b5\",                        [{\"hovertemplate\": \"x=%{x}<br>y=%{y}<extra></extra>\", \"legendgroup\": \"\", \"marker\": {\"color\": \"#636efa\", \"size\": 50, \"symbol\": \"circle\"}, \"mode\": \"markers\", \"name\": \"\", \"orientation\": \"v\", \"showlegend\": false, \"type\": \"scatter\", \"x\": [\"2018\", \"B1 (janvier-f\\u00e9vrier)\", \"B2 (mars-avril)\", \"B3 (mai-juin)\", \"B4 (juillet-aout)\"], \"xaxis\": \"x\", \"y\": [1.0, 0.9995979128509104, 0.9959797657485405, 0.9982713581601848, 0.9990906277915961], \"yaxis\": \"y\"}],                        {\"legend\": {\"tracegroupgap\": 0}, \"shapes\": [{\"type\": \"line\", \"x0\": 0, \"x1\": 1, \"xref\": \"x domain\", \"y0\": 0.9982349161378079, \"y1\": 0.9982349161378079, \"yref\": \"y\"}], \"template\": {\"data\": {\"bar\": [{\"error_x\": {\"color\": \"#2a3f5f\"}, \"error_y\": {\"color\": \"#2a3f5f\"}, \"marker\": {\"line\": {\"color\": \"#E5ECF6\", \"width\": 0.5}}, \"type\": \"bar\"}], \"barpolar\": [{\"marker\": {\"line\": {\"color\": \"#E5ECF6\", \"width\": 0.5}}, \"type\": \"barpolar\"}], \"carpet\": [{\"aaxis\": {\"endlinecolor\": \"#2a3f5f\", \"gridcolor\": \"white\", \"linecolor\": \"white\", \"minorgridcolor\": \"white\", \"startlinecolor\": \"#2a3f5f\"}, \"baxis\": {\"endlinecolor\": \"#2a3f5f\", \"gridcolor\": \"white\", \"linecolor\": \"white\", \"minorgridcolor\": \"white\", \"startlinecolor\": \"#2a3f5f\"}, \"type\": \"carpet\"}], \"choropleth\": [{\"colorbar\": {\"outlinewidth\": 0, \"ticks\": \"\"}, \"type\": \"choropleth\"}], \"contour\": [{\"colorbar\": {\"outlinewidth\": 0, \"ticks\": \"\"}, \"colorscale\": [[0.0, \"#0d0887\"], [0.1111111111111111, \"#46039f\"], [0.2222222222222222, \"#7201a8\"], [0.3333333333333333, \"#9c179e\"], [0.4444444444444444, \"#bd3786\"], [0.5555555555555556, \"#d8576b\"], [0.6666666666666666, \"#ed7953\"], [0.7777777777777778, \"#fb9f3a\"], [0.8888888888888888, \"#fdca26\"], [1.0, \"#f0f921\"]], \"type\": \"contour\"}], \"contourcarpet\": [{\"colorbar\": {\"outlinewidth\": 0, \"ticks\": \"\"}, \"type\": \"contourcarpet\"}], \"heatmap\": [{\"colorbar\": {\"outlinewidth\": 0, \"ticks\": \"\"}, \"colorscale\": [[0.0, \"#0d0887\"], [0.1111111111111111, \"#46039f\"], [0.2222222222222222, \"#7201a8\"], [0.3333333333333333, \"#9c179e\"], [0.4444444444444444, \"#bd3786\"], [0.5555555555555556, \"#d8576b\"], [0.6666666666666666, \"#ed7953\"], [0.7777777777777778, \"#fb9f3a\"], [0.8888888888888888, \"#fdca26\"], [1.0, \"#f0f921\"]], \"type\": \"heatmap\"}], \"heatmapgl\": [{\"colorbar\": {\"outlinewidth\": 0, \"ticks\": \"\"}, \"colorscale\": [[0.0, \"#0d0887\"], [0.1111111111111111, \"#46039f\"], [0.2222222222222222, \"#7201a8\"], [0.3333333333333333, \"#9c179e\"], [0.4444444444444444, \"#bd3786\"], [0.5555555555555556, \"#d8576b\"], [0.6666666666666666, \"#ed7953\"], [0.7777777777777778, \"#fb9f3a\"], [0.8888888888888888, \"#fdca26\"], [1.0, \"#f0f921\"]], \"type\": \"heatmapgl\"}], \"histogram\": [{\"marker\": {\"colorbar\": {\"outlinewidth\": 0, \"ticks\": \"\"}}, \"type\": \"histogram\"}], \"histogram2d\": [{\"colorbar\": {\"outlinewidth\": 0, \"ticks\": \"\"}, \"colorscale\": [[0.0, \"#0d0887\"], [0.1111111111111111, \"#46039f\"], [0.2222222222222222, \"#7201a8\"], [0.3333333333333333, \"#9c179e\"], [0.4444444444444444, \"#bd3786\"], [0.5555555555555556, \"#d8576b\"], [0.6666666666666666, \"#ed7953\"], [0.7777777777777778, \"#fb9f3a\"], [0.8888888888888888, \"#fdca26\"], [1.0, \"#f0f921\"]], \"type\": \"histogram2d\"}], \"histogram2dcontour\": [{\"colorbar\": {\"outlinewidth\": 0, \"ticks\": \"\"}, \"colorscale\": [[0.0, \"#0d0887\"], [0.1111111111111111, \"#46039f\"], [0.2222222222222222, \"#7201a8\"], [0.3333333333333333, \"#9c179e\"], [0.4444444444444444, \"#bd3786\"], [0.5555555555555556, \"#d8576b\"], [0.6666666666666666, \"#ed7953\"], [0.7777777777777778, \"#fb9f3a\"], [0.8888888888888888, \"#fdca26\"], [1.0, \"#f0f921\"]], \"type\": \"histogram2dcontour\"}], \"mesh3d\": [{\"colorbar\": {\"outlinewidth\": 0, \"ticks\": \"\"}, \"type\": \"mesh3d\"}], \"parcoords\": [{\"line\": {\"colorbar\": {\"outlinewidth\": 0, \"ticks\": \"\"}}, \"type\": \"parcoords\"}], \"pie\": [{\"automargin\": true, \"type\": \"pie\"}], \"scatter\": [{\"marker\": {\"colorbar\": {\"outlinewidth\": 0, \"ticks\": \"\"}}, \"type\": \"scatter\"}], \"scatter3d\": [{\"line\": {\"colorbar\": {\"outlinewidth\": 0, \"ticks\": \"\"}}, \"marker\": {\"colorbar\": {\"outlinewidth\": 0, \"ticks\": \"\"}}, \"type\": \"scatter3d\"}], \"scattercarpet\": [{\"marker\": {\"colorbar\": {\"outlinewidth\": 0, \"ticks\": \"\"}}, \"type\": \"scattercarpet\"}], \"scattergeo\": [{\"marker\": {\"colorbar\": {\"outlinewidth\": 0, \"ticks\": \"\"}}, \"type\": \"scattergeo\"}], \"scattergl\": [{\"marker\": {\"colorbar\": {\"outlinewidth\": 0, \"ticks\": \"\"}}, \"type\": \"scattergl\"}], \"scattermapbox\": [{\"marker\": {\"colorbar\": {\"outlinewidth\": 0, \"ticks\": \"\"}}, \"type\": \"scattermapbox\"}], \"scatterpolar\": [{\"marker\": {\"colorbar\": {\"outlinewidth\": 0, \"ticks\": \"\"}}, \"type\": \"scatterpolar\"}], \"scatterpolargl\": [{\"marker\": {\"colorbar\": {\"outlinewidth\": 0, \"ticks\": \"\"}}, \"type\": \"scatterpolargl\"}], \"scatterternary\": [{\"marker\": {\"colorbar\": {\"outlinewidth\": 0, \"ticks\": \"\"}}, \"type\": \"scatterternary\"}], \"surface\": [{\"colorbar\": {\"outlinewidth\": 0, \"ticks\": \"\"}, \"colorscale\": [[0.0, \"#0d0887\"], [0.1111111111111111, \"#46039f\"], [0.2222222222222222, \"#7201a8\"], [0.3333333333333333, \"#9c179e\"], [0.4444444444444444, \"#bd3786\"], [0.5555555555555556, \"#d8576b\"], [0.6666666666666666, \"#ed7953\"], [0.7777777777777778, \"#fb9f3a\"], [0.8888888888888888, \"#fdca26\"], [1.0, \"#f0f921\"]], \"type\": \"surface\"}], \"table\": [{\"cells\": {\"fill\": {\"color\": \"#EBF0F8\"}, \"line\": {\"color\": \"white\"}}, \"header\": {\"fill\": {\"color\": \"#C8D4E3\"}, \"line\": {\"color\": \"white\"}}, \"type\": \"table\"}]}, \"layout\": {\"annotationdefaults\": {\"arrowcolor\": \"#2a3f5f\", \"arrowhead\": 0, \"arrowwidth\": 1}, \"autotypenumbers\": \"strict\", \"coloraxis\": {\"colorbar\": {\"outlinewidth\": 0, \"ticks\": \"\"}}, \"colorscale\": {\"diverging\": [[0, \"#8e0152\"], [0.1, \"#c51b7d\"], [0.2, \"#de77ae\"], [0.3, \"#f1b6da\"], [0.4, \"#fde0ef\"], [0.5, \"#f7f7f7\"], [0.6, \"#e6f5d0\"], [0.7, \"#b8e186\"], [0.8, \"#7fbc41\"], [0.9, \"#4d9221\"], [1, \"#276419\"]], \"sequential\": [[0.0, \"#0d0887\"], [0.1111111111111111, \"#46039f\"], [0.2222222222222222, \"#7201a8\"], [0.3333333333333333, \"#9c179e\"], [0.4444444444444444, \"#bd3786\"], [0.5555555555555556, \"#d8576b\"], [0.6666666666666666, \"#ed7953\"], [0.7777777777777778, \"#fb9f3a\"], [0.8888888888888888, \"#fdca26\"], [1.0, \"#f0f921\"]], \"sequentialminus\": [[0.0, \"#0d0887\"], [0.1111111111111111, \"#46039f\"], [0.2222222222222222, \"#7201a8\"], [0.3333333333333333, \"#9c179e\"], [0.4444444444444444, \"#bd3786\"], [0.5555555555555556, \"#d8576b\"], [0.6666666666666666, \"#ed7953\"], [0.7777777777777778, \"#fb9f3a\"], [0.8888888888888888, \"#fdca26\"], [1.0, \"#f0f921\"]]}, \"colorway\": [\"#636efa\", \"#EF553B\", \"#00cc96\", \"#ab63fa\", \"#FFA15A\", \"#19d3f3\", \"#FF6692\", \"#B6E880\", \"#FF97FF\", \"#FECB52\"], \"font\": {\"color\": \"#2a3f5f\"}, \"geo\": {\"bgcolor\": \"white\", \"lakecolor\": \"white\", \"landcolor\": \"#E5ECF6\", \"showlakes\": true, \"showland\": true, \"subunitcolor\": \"white\"}, \"hoverlabel\": {\"align\": \"left\"}, \"hovermode\": \"closest\", \"mapbox\": {\"style\": \"light\"}, \"paper_bgcolor\": \"white\", \"plot_bgcolor\": \"#E5ECF6\", \"polar\": {\"angularaxis\": {\"gridcolor\": \"white\", \"linecolor\": \"white\", \"ticks\": \"\"}, \"bgcolor\": \"#E5ECF6\", \"radialaxis\": {\"gridcolor\": \"white\", \"linecolor\": \"white\", \"ticks\": \"\"}}, \"scene\": {\"xaxis\": {\"backgroundcolor\": \"#E5ECF6\", \"gridcolor\": \"white\", \"gridwidth\": 2, \"linecolor\": \"white\", \"showbackground\": true, \"ticks\": \"\", \"zerolinecolor\": \"white\"}, \"yaxis\": {\"backgroundcolor\": \"#E5ECF6\", \"gridcolor\": \"white\", \"gridwidth\": 2, \"linecolor\": \"white\", \"showbackground\": true, \"ticks\": \"\", \"zerolinecolor\": \"white\"}, \"zaxis\": {\"backgroundcolor\": \"#E5ECF6\", \"gridcolor\": \"white\", \"gridwidth\": 2, \"linecolor\": \"white\", \"showbackground\": true, \"ticks\": \"\", \"zerolinecolor\": \"white\"}}, \"shapedefaults\": {\"line\": {\"color\": \"#2a3f5f\"}}, \"ternary\": {\"aaxis\": {\"gridcolor\": \"white\", \"linecolor\": \"white\", \"ticks\": \"\"}, \"baxis\": {\"gridcolor\": \"white\", \"linecolor\": \"white\", \"ticks\": \"\"}, \"bgcolor\": \"#E5ECF6\", \"caxis\": {\"gridcolor\": \"white\", \"linecolor\": \"white\", \"ticks\": \"\"}}, \"title\": {\"x\": 0.05}, \"xaxis\": {\"automargin\": true, \"gridcolor\": \"white\", \"linecolor\": \"white\", \"ticks\": \"\", \"title\": {\"standoff\": 15}, \"zerolinecolor\": \"white\", \"zerolinewidth\": 2}, \"yaxis\": {\"automargin\": true, \"gridcolor\": \"white\", \"linecolor\": \"white\", \"ticks\": \"\", \"title\": {\"standoff\": 15}, \"zerolinecolor\": \"white\", \"zerolinewidth\": 2}}}, \"title\": {\"text\": \"Evolution du ARI entre Janvier 2018 et Aout 2018\"}, \"xaxis\": {\"anchor\": \"y\", \"domain\": [0.0, 1.0], \"title\": {\"text\": \"Quadrimestre\"}}, \"yaxis\": {\"anchor\": \"x\", \"domain\": [0.0, 1.0], \"title\": {\"text\": \"ARI\"}, \"type\": \"log\"}},                        {\"responsive\": true}                    ).then(function(){\n",
       "                            \n",
       "var gd = document.getElementById('1cf0b05a-53fb-40e5-9083-c810091848b5');\n",
       "var x = new MutationObserver(function (mutations, observer) {{\n",
       "        var display = window.getComputedStyle(gd).display;\n",
       "        if (!display || display === 'none') {{\n",
       "            console.log([gd, 'removed!']);\n",
       "            Plotly.purge(gd);\n",
       "            observer.disconnect();\n",
       "        }}\n",
       "}});\n",
       "\n",
       "// Listen for the removal of the full notebook cells\n",
       "var notebookContainer = gd.closest('#notebook-container');\n",
       "if (notebookContainer) {{\n",
       "    x.observe(notebookContainer, {childList: true});\n",
       "}}\n",
       "\n",
       "// Listen for the clearing of the current output cell\n",
       "var outputEl = gd.closest('.output');\n",
       "if (outputEl) {{\n",
       "    x.observe(outputEl, {childList: true});\n",
       "}}\n",
       "\n",
       "                        })                };                });            </script>        </div>"
      ]
     },
     "metadata": {},
     "output_type": "display_data"
    }
   ],
   "source": [
    "ARI=[ari_0,ari_1,ari_2,ari_3,ari_4]\n",
    "\n",
    "\n",
    "fig = px.scatter(x=[\"2018\",\"B1 (janvier-février)\", \"B2 (mars-avril)\",\"B3 (mai-juin)\",\"B4 (juillet-aout)\"], y=ARI, log_y=True,title=\"Evolution du ARI entre Janvier 2018 et Aout 2018\")\n",
    "\n",
    "fig.update_layout(\n",
    "    xaxis_title=\"Quadrimestre\",\n",
    "    yaxis_title=\"ARI\",\n",
    "\n",
    ")\n",
    "\n",
    "fig.add_hline(y=np.mean(ARI[1:]))\n",
    "\n",
    "\n",
    "fig.update_traces(marker_size=50)\n",
    "fig.show()"
   ]
  },
  {
   "cell_type": "markdown",
   "metadata": {},
   "source": [
    "# Testons le contrat de maintenance par MOIS"
   ]
  },
  {
   "cell_type": "markdown",
   "metadata": {},
   "source": [
    "Pas besoin d'essayer par mois, notre modèle en 4 clusters peut très bien être renouvellé tous les 4 mois ou tous les 2 mois car l'ARI est supérieur à 0.99."
   ]
  }
 ],
 "metadata": {
  "kernelspec": {
   "display_name": "Python 3",
   "language": "python",
   "name": "python3"
  },
  "language_info": {
   "codemirror_mode": {
    "name": "ipython",
    "version": 3
   },
   "file_extension": ".py",
   "mimetype": "text/x-python",
   "name": "python",
   "nbconvert_exporter": "python",
   "pygments_lexer": "ipython3",
   "version": "3.8.3"
  }
 },
 "nbformat": 4,
 "nbformat_minor": 4
}
