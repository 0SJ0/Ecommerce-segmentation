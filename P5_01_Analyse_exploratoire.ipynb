{
 "cells": [
  {
   "cell_type": "markdown",
   "metadata": {},
   "source": [
    "# <center> Projet :  Analysez des clients d'un e-commerce </center>\n",
    "\n",
    "\n",
    "\n",
    "<img src=\"https://storage.googleapis.com/kaggle-datasets-images/55151/105464/d59245a7014a35a35cc7f7b721de4dae/data-original.png?t=2018-09-21-16-21-21\" width=1292>\n",
    "\n",
    "# <center>Partie : Analyse  exploratoire</center>\n",
    "\n",
    "\n",
    "### <center>Dataset : OLIST </center>\n",
    "### <center> https://www.kaggle.com/olistbr/brazilian-ecommerce <center>"
   ]
  },
  {
   "cell_type": "markdown",
   "metadata": {},
   "source": [
    "Olist souhaite que vous fournissiez à ses équipes d'e-commerce une segmentation des clients qu’elles pourront utiliser au quotidien pour leurs campagnes de communication.\n",
    "\n",
    "Votre objectif est de comprendre les différents types d’utilisateurs grâce à leur comportement et à leurs données personnelles.\n",
    "\n",
    "Vous devrez fournir à l’équipe marketing une description actionable de votre segmentation et de sa logique sous-jacente pour une utilisation optimale, ainsi qu’une proposition de contrat de maintenance basée sur une analyse de la stabilité des segments au cours du temps."
   ]
  },
  {
   "cell_type": "markdown",
   "metadata": {},
   "source": [
    "# Chargement des données"
   ]
  },
  {
   "cell_type": "code",
   "execution_count": null,
   "metadata": {},
   "outputs": [],
   "source": [
    "#Ci dessous la liste des packages que nous utilsons pour ce projet.\n",
    "import pandas as pd\n",
    "import numpy as np\n",
    "import matplotlib.pyplot as plt\n",
    "import seaborn as sns\n",
    "import plotly.express as px\n",
    "import plotly.graph_objects as go\n",
    "import rpy2\n",
    "from sklearn.decomposition import PCA\n",
    "from sklearn import datasets\n",
    "from sklearn.preprocessing import StandardScaler\n",
    "import random\n",
    "random.seed(9001)\n",
    "\n",
    "#Afficher toute les colonnes\n",
    "pd.set_option('display.max_columns', None)\n",
    "\n",
    "print(\"Les packages sont chargés.\")"
   ]
  },
  {
   "cell_type": "markdown",
   "metadata": {},
   "source": [
    "### Base sur les  id des clients et leurs lieux."
   ]
  },
  {
   "cell_type": "code",
   "execution_count": null,
   "metadata": {},
   "outputs": [],
   "source": [
    "df_client_lieu=pd.read_csv(\"olist_customers_dataset.csv\",sep=\",\")\n",
    "pd.read_csv(\"olist_customers_dataset.csv\",sep=\",\")"
   ]
  },
  {
   "cell_type": "code",
   "execution_count": null,
   "metadata": {},
   "outputs": [],
   "source": [
    "len(df_client_lieu[\"customer_id\"].unique())"
   ]
  },
  {
   "cell_type": "code",
   "execution_count": null,
   "metadata": {},
   "outputs": [],
   "source": [
    "len(df_client_lieu[\"customer_unique_id\"].unique())"
   ]
  },
  {
   "cell_type": "markdown",
   "metadata": {},
   "source": [
    "### Base sur les codes géographiques"
   ]
  },
  {
   "cell_type": "code",
   "execution_count": null,
   "metadata": {},
   "outputs": [],
   "source": [
    "df2=pd.read_csv(\"olist_geolocation_dataset.csv\",sep=\",\")\n",
    "pd.read_csv(\"olist_geolocation_dataset.csv\",sep=\",\")"
   ]
  },
  {
   "cell_type": "markdown",
   "metadata": {},
   "source": [
    "### BASE SUR LES ORDRES QUI RELIENT AUX PRODUITS ET AUX VENDEURS"
   ]
  },
  {
   "cell_type": "code",
   "execution_count": null,
   "metadata": {},
   "outputs": [],
   "source": [
    "df_order_product_seller=pd.read_csv(\"olist_order_items_dataset.csv\",sep=\",\")\n",
    "pd.read_csv(\"olist_order_items_dataset.csv\",sep=\",\")"
   ]
  },
  {
   "cell_type": "code",
   "execution_count": null,
   "metadata": {},
   "outputs": [],
   "source": [
    "fig = px.box(df_order_product_seller, y=\"price\")\n",
    "fig.show()"
   ]
  },
  {
   "cell_type": "code",
   "execution_count": null,
   "metadata": {},
   "outputs": [],
   "source": [
    "grouped_order = df_order_product_seller.groupby(\"order_id\")\n",
    "grouped_order"
   ]
  },
  {
   "cell_type": "code",
   "execution_count": null,
   "metadata": {},
   "outputs": [],
   "source": [
    "df_order_product_sellert_sum=grouped_order.max()\n",
    "df_order_product_seller.iloc[97261]"
   ]
  },
  {
   "cell_type": "markdown",
   "metadata": {},
   "source": [
    "### BASE SUR LES ORDRES QUI RELIENT AUX PRODUITS ET AUX VENDEURS"
   ]
  },
  {
   "cell_type": "code",
   "execution_count": null,
   "metadata": {},
   "outputs": [],
   "source": [
    "df_paiement=pd.read_csv(\"olist_order_payments_dataset.csv\",sep=\",\")\n",
    "pd.read_csv(\"olist_order_payments_dataset.csv\",sep=\",\")"
   ]
  },
  {
   "cell_type": "code",
   "execution_count": null,
   "metadata": {},
   "outputs": [],
   "source": [
    "len(df_paiement[\"order_id\"].unique())"
   ]
  },
  {
   "cell_type": "code",
   "execution_count": null,
   "metadata": {},
   "outputs": [],
   "source": [
    "df_paiement[\"order_id\"].value_counts()"
   ]
  },
  {
   "cell_type": "code",
   "execution_count": null,
   "metadata": {},
   "outputs": [],
   "source": [
    "grouped_order = df_paiement.groupby(\"order_id\")\n",
    "grouped_order"
   ]
  },
  {
   "cell_type": "code",
   "execution_count": null,
   "metadata": {},
   "outputs": [],
   "source": [
    "df_paiement_sum=grouped_order.sum()\n",
    "df_paiement_sum.iloc[9261]"
   ]
  },
  {
   "cell_type": "code",
   "execution_count": null,
   "metadata": {},
   "outputs": [],
   "source": [
    "df_paiement_sum"
   ]
  },
  {
   "cell_type": "code",
   "execution_count": null,
   "metadata": {},
   "outputs": [],
   "source": [
    "df_paiement_mean=grouped_order.mean()\n",
    "df_paiement_mean.iloc[9261]"
   ]
  },
  {
   "cell_type": "code",
   "execution_count": null,
   "metadata": {},
   "outputs": [],
   "source": [
    "df_paiement_mean"
   ]
  },
  {
   "cell_type": "code",
   "execution_count": null,
   "metadata": {},
   "outputs": [],
   "source": [
    "nombre_articles=df_paiement.order_id.value_counts()\n",
    "nombre_articles.name=\"nombre_articles\""
   ]
  },
  {
   "cell_type": "code",
   "execution_count": null,
   "metadata": {},
   "outputs": [],
   "source": [
    "df_nombre_articles = pd.DataFrame(nombre_articles)\n",
    "df_nombre_articles[\"order_id\"]=df_nombre_articles.index\n",
    "df_nombre_articles"
   ]
  },
  {
   "cell_type": "markdown",
   "metadata": {},
   "source": [
    "### BASE SUR LES ORDRES QUI RELIENT AUX PRODUITS ET AUX VENDEURS"
   ]
  },
  {
   "cell_type": "code",
   "execution_count": null,
   "metadata": {},
   "outputs": [],
   "source": [
    "df_review=pd.read_csv(\"olist_order_reviews_dataset.csv\",sep=\",\")\n",
    "df_review"
   ]
  },
  {
   "cell_type": "markdown",
   "metadata": {},
   "source": [
    "### BASE SUR LES ORDRES DONNEES PAR CLIENTS"
   ]
  },
  {
   "cell_type": "code",
   "execution_count": null,
   "metadata": {},
   "outputs": [],
   "source": [
    "df_order_customer=pd.read_csv(\"olist_orders_dataset.csv\",sep=\",\")\n",
    "pd.read_csv(\"olist_orders_dataset.csv\",sep=\",\")"
   ]
  },
  {
   "cell_type": "code",
   "execution_count": null,
   "metadata": {},
   "outputs": [],
   "source": [
    "len(df_order_customer[\"customer_id\"].unique())"
   ]
  },
  {
   "cell_type": "markdown",
   "metadata": {},
   "source": [
    "### BASE SUR LES PRODUITS"
   ]
  },
  {
   "cell_type": "code",
   "execution_count": null,
   "metadata": {},
   "outputs": [],
   "source": [
    "df_product=pd.read_csv(\"olist_products_dataset.csv\",sep=\",\")\n",
    "pd.read_csv(\"olist_products_dataset.csv\",sep=\",\")"
   ]
  },
  {
   "cell_type": "code",
   "execution_count": null,
   "metadata": {},
   "outputs": [],
   "source": [
    "df_product[\"product_category_name\"].unique()"
   ]
  },
  {
   "cell_type": "code",
   "execution_count": null,
   "metadata": {},
   "outputs": [],
   "source": [
    "df_product[\"product_category_name\"].value_counts()[:10]"
   ]
  },
  {
   "cell_type": "markdown",
   "metadata": {},
   "source": [
    "### BASE SUR LES VENDEURS"
   ]
  },
  {
   "cell_type": "code",
   "execution_count": null,
   "metadata": {},
   "outputs": [],
   "source": [
    "df_seller=pd.read_csv(\"olist_sellers_dataset.csv\",sep=\",\")\n",
    "df_seller"
   ]
  },
  {
   "cell_type": "markdown",
   "metadata": {},
   "source": [
    "# BASE FINALE"
   ]
  },
  {
   "cell_type": "code",
   "execution_count": null,
   "metadata": {},
   "outputs": [],
   "source": [
    "#base wich link customer and order\n",
    "df=pd.merge(df_client_lieu,df_order_customer, left_on='customer_id',right_on='customer_id', how='left') \n",
    "df"
   ]
  },
  {
   "cell_type": "code",
   "execution_count": null,
   "metadata": {},
   "outputs": [],
   "source": [
    "#df_review\n",
    "df=pd.merge(df,df_review, left_on='order_id',right_on='order_id', how='inner') \n",
    "df"
   ]
  },
  {
   "cell_type": "code",
   "execution_count": null,
   "metadata": {},
   "outputs": [],
   "source": []
  },
  {
   "cell_type": "code",
   "execution_count": null,
   "metadata": {},
   "outputs": [],
   "source": [
    "#df_paiement_mean\n",
    "df=pd.merge(df,df_paiement_sum, left_on='order_id',right_on='order_id', how='inner') \n",
    "df"
   ]
  },
  {
   "cell_type": "code",
   "execution_count": null,
   "metadata": {},
   "outputs": [],
   "source": [
    "#df_order_product_seller\n",
    "df2=pd.merge(df_order_product_seller,df_product, left_on='product_id',right_on='product_id', how='inner') \n",
    "df2"
   ]
  },
  {
   "cell_type": "code",
   "execution_count": null,
   "metadata": {},
   "outputs": [],
   "source": [
    "#df_seller\n",
    "df2=pd.merge(df2,df_seller, left_on='seller_id',right_on='seller_id', how='inner') \n",
    "df2"
   ]
  },
  {
   "cell_type": "code",
   "execution_count": null,
   "metadata": {},
   "outputs": [],
   "source": [
    "grouped_order = df2.groupby(\"order_id\")\n",
    "grouped_order"
   ]
  },
  {
   "cell_type": "code",
   "execution_count": null,
   "metadata": {},
   "outputs": [],
   "source": [
    "df2_mean=grouped_order.mean()\n",
    "df2_mean"
   ]
  },
  {
   "cell_type": "code",
   "execution_count": null,
   "metadata": {},
   "outputs": [],
   "source": [
    "#df_paiement_mean\n",
    "df=pd.merge(df,df2_mean, left_on='order_id',right_on='order_id', how='inner') \n",
    "df"
   ]
  },
  {
   "cell_type": "code",
   "execution_count": null,
   "metadata": {},
   "outputs": [],
   "source": [
    "#df_nombre_articles\n",
    "df=pd.merge(df,df_nombre_articles, left_on='order_id',right_on='order_id', how='inner') \n",
    "df=df.sort_values(\"order_purchase_timestamp\")\n",
    "df"
   ]
  },
  {
   "cell_type": "code",
   "execution_count": null,
   "metadata": {},
   "outputs": [],
   "source": [
    "a=pd.DataFrame(df[\"customer_unique_id\"].value_counts())\n",
    "a['Client_fidele_numeric'] = np.where(a[\"customer_unique_id\"] > 1, 1, 0)\n",
    "a['Client_fidele'] = np.where(a[\"customer_unique_id\"] > 1, \"client fidèle\", \"client non fidèle\")\n",
    "b=df.groupby(\"customer_unique_id\")[\"review_score\"].mean()\n",
    "a=a.rename(columns={\"customer_unique_id\": \"Nombre_commandes\"})\n",
    "a[\"satisfaction_moyenne\"]=b.values\n",
    "df=pd.merge(df,a, left_on='customer_unique_id',right_on=a.index, how='inner') \n",
    "df"
   ]
  },
  {
   "cell_type": "code",
   "execution_count": null,
   "metadata": {},
   "outputs": [],
   "source": [
    "af=df[-df.duplicated( subset=['customer_unique_id'],keep='first')]\n"
   ]
  },
  {
   "cell_type": "code",
   "execution_count": null,
   "metadata": {},
   "outputs": [],
   "source": [
    "af"
   ]
  },
  {
   "cell_type": "markdown",
   "metadata": {},
   "source": [
    "# Analyse exploratoire + Feature engineering"
   ]
  },
  {
   "cell_type": "markdown",
   "metadata": {},
   "source": [
    "Un bon client est un client qui commande beaucoup ou alors qui est satisfait."
   ]
  },
  {
   "cell_type": "code",
   "execution_count": null,
   "metadata": {},
   "outputs": [],
   "source": [
    "df"
   ]
  },
  {
   "cell_type": "code",
   "execution_count": null,
   "metadata": {},
   "outputs": [],
   "source": [
    "df.payment_sequential.describe()"
   ]
  },
  {
   "cell_type": "code",
   "execution_count": null,
   "metadata": {},
   "outputs": [],
   "source": [
    "df.nombre_articles.describe()"
   ]
  },
  {
   "cell_type": "code",
   "execution_count": null,
   "metadata": {},
   "outputs": [],
   "source": [
    "df[\"order_purchase_timestamp\"]"
   ]
  },
  {
   "cell_type": "code",
   "execution_count": null,
   "metadata": {},
   "outputs": [],
   "source": [
    "df[\"year\"]=df['order_purchase_timestamp'].str[:4]\n"
   ]
  },
  {
   "cell_type": "code",
   "execution_count": null,
   "metadata": {},
   "outputs": [],
   "source": [
    "plt.figure(figsize=(20,13))\n",
    "plt.title(\"Nombre de client par année\")\n",
    "sns.countplot(x='year', data=df)\n",
    "plt.show()"
   ]
  },
  {
   "cell_type": "markdown",
   "metadata": {},
   "source": [
    "Regardons la satisfaction client,"
   ]
  },
  {
   "cell_type": "code",
   "execution_count": null,
   "metadata": {},
   "outputs": [],
   "source": [
    "plt.figure(figsize=(20,13))\n",
    "plt.title(\"Répartition de la satisfaction client\")\n",
    "sns.countplot(x='review_score', data=df)\n",
    "plt.show()"
   ]
  },
  {
   "cell_type": "code",
   "execution_count": null,
   "metadata": {},
   "outputs": [],
   "source": [
    "df['Client_satisfaction'] = np.where(df['review_score']>3, \"Client satisfait\", \"Client non satisfait\")\n",
    "df['Client_satisfaction'].value_counts()"
   ]
  },
  {
   "cell_type": "code",
   "execution_count": null,
   "metadata": {},
   "outputs": [],
   "source": [
    "df['Client_satisfaction_numeric'] = np.where(df['review_score']>3, 1, 0)\n",
    "df['Client_satisfaction_numeric'].value_counts()"
   ]
  },
  {
   "cell_type": "markdown",
   "metadata": {},
   "source": [
    "Regardons le nombre de commande,"
   ]
  },
  {
   "cell_type": "code",
   "execution_count": null,
   "metadata": {},
   "outputs": [],
   "source": [
    "plt.figure(figsize=(20,13))\n",
    "plt.title(\"Répartition du nombre de commande\")\n",
    "sns.countplot(x='nombre_articles', data=df)\n",
    "plt.show()"
   ]
  },
  {
   "cell_type": "code",
   "execution_count": null,
   "metadata": {},
   "outputs": [],
   "source": [
    "df['Nombre_articles'] = np.where(df['nombre_articles']>1, \"Plusieurs articles\", \"Un article\")\n",
    "df['Nombre_articles'].value_counts()"
   ]
  },
  {
   "cell_type": "code",
   "execution_count": null,
   "metadata": {},
   "outputs": [],
   "source": [
    "df['Nombre_articles_numeric'] = np.where(df['nombre_articles']>1, 1, 0)\n",
    "df['Nombre_articles_numeric'].value_counts()"
   ]
  },
  {
   "cell_type": "markdown",
   "metadata": {},
   "source": [
    "Regardons le montant du panier moyen,"
   ]
  },
  {
   "cell_type": "code",
   "execution_count": null,
   "metadata": {},
   "outputs": [],
   "source": [
    "plt.figure(figsize=(20,13))\n",
    "plt.title(\"Distribution du prix moyen d'achat\")\n",
    "x = pd.Series(df[\"price\"], name=\"prix en euro\")\n",
    "ax = sns.distplot(x)\n",
    "plt.show()"
   ]
  },
  {
   "cell_type": "code",
   "execution_count": null,
   "metadata": {},
   "outputs": [],
   "source": [
    "df[\"price\"].describe()"
   ]
  },
  {
   "cell_type": "code",
   "execution_count": null,
   "metadata": {},
   "outputs": [],
   "source": [
    "df['Client_depensier'] = np.where(df['price']>139, \"Client dépensier\", \"Client non dépensier\")\n",
    "df['Client_depensier'].value_counts()"
   ]
  },
  {
   "cell_type": "code",
   "execution_count": null,
   "metadata": {},
   "outputs": [],
   "source": [
    "df['Client_depensier_numeric'] = np.where(df['price']>139, 1, 0)\n",
    "df['Client_depensier_numeric'].value_counts()"
   ]
  },
  {
   "cell_type": "code",
   "execution_count": null,
   "metadata": {},
   "outputs": [],
   "source": [
    "plt.figure(figsize=(15,10))\n",
    "plt.title(\"Nombre de commande en fonction du prix\")\n",
    "sns.scatterplot(data=df, x=\"nombre_articles\", y=\"price\", hue='Client_satisfaction')\n",
    "plt.show()"
   ]
  },
  {
   "cell_type": "code",
   "execution_count": null,
   "metadata": {},
   "outputs": [],
   "source": [
    "sns.stripplot(x='review_score', y='price', data=df, jitter=True)\n",
    "sns.despine()"
   ]
  },
  {
   "cell_type": "markdown",
   "metadata": {},
   "source": [
    "# Début Modélisation"
   ]
  },
  {
   "cell_type": "markdown",
   "metadata": {},
   "source": [
    "Pour le feature engenering"
   ]
  },
  {
   "cell_type": "markdown",
   "metadata": {},
   "source": [
    "### On peut faire une ACP, clustering hiérarchique,k-means,DBSCAN\n",
    "\n",
    "L'indice de Rand ajusté, ARI nous permettra d'évaluer nos modèles."
   ]
  },
  {
   "cell_type": "code",
   "execution_count": null,
   "metadata": {},
   "outputs": [],
   "source": [
    "df[\"volume\"]=df[\"product_length_cm\"]*df[\"product_height_cm\"]*df[\"product_width_cm\"]\n"
   ]
  },
  {
   "cell_type": "code",
   "execution_count": null,
   "metadata": {},
   "outputs": [],
   "source": [
    "df"
   ]
  },
  {
   "cell_type": "code",
   "execution_count": null,
   "metadata": {},
   "outputs": [],
   "source": [
    "df.shape"
   ]
  },
  {
   "cell_type": "code",
   "execution_count": null,
   "metadata": {},
   "outputs": [],
   "source": [
    "df=df.drop([\"nombre_articles\",\"satisfaction_moyenne\",\"price\",\"seller_zip_code_prefix\",\"order_item_id\",\"payment_installments\",\"payment_sequential\",'review_comment_title','review_comment_message','customer_id', 'customer_unique_id', 'customer_zip_code_prefix', 'customer_city', 'order_id', 'order_purchase_timestamp', 'order_delivered_carrier_date', 'order_delivered_customer_date','order_estimated_delivery_date','review_id','review_creation_date',\"review_answer_timestamp\",\"product_name_lenght\",\"product_description_lenght\",\"product_photos_qty\",\"Nombre_articles_numeric\",\"Client_depensier_numeric\"], axis=1)\n",
    "df=df.drop([\"product_length_cm\",\"product_height_cm\",\"product_width_cm\"],axis=1)\n",
    "df\n",
    "#"
   ]
  },
  {
   "cell_type": "code",
   "execution_count": null,
   "metadata": {},
   "outputs": [],
   "source": [
    "df=df.dropna()\n",
    "df=df.reset_index()"
   ]
  },
  {
   "cell_type": "code",
   "execution_count": null,
   "metadata": {},
   "outputs": [],
   "source": [
    "df"
   ]
  },
  {
   "cell_type": "code",
   "execution_count": null,
   "metadata": {},
   "outputs": [],
   "source": [
    "df.head(30)"
   ]
  },
  {
   "cell_type": "code",
   "execution_count": null,
   "metadata": {},
   "outputs": [],
   "source": [
    "# Ajout des mensualités, bimensualités et quadrimensualités\n",
    "for i in range(len(df)):\n",
    "    df.loc[i,\"month\"]=df.loc[i,\"order_approved_at\"][5:7]\n",
    "    if (df.loc[i,\"month\"] in {'01','02','03'}) : df.loc[i,\"month\"] ==\"Q1\"\n",
    "    if (df.loc[i,\"month\"] in {\"04\",\"05\",\"06\"}) : df.loc[i,\"month\"] ==\"Q2\"\n",
    "    if (df.loc[i,\"month\"] in {\"07\",\"08\",\"09\"}) : df.loc[i,\"month\"] ==\"Q3\"\n",
    "    if (df.loc[i,\"month\"] in {\"10\",\"11\",\"12\"}) : df.loc[i,\"month\"] ==\"Q4\"\n",
    "#####\n",
    "df.loc[(df[\"month\"] == \"01\")|(df[\"month\"] == \"02\"), 'Bimestre'] = \"B1\"\n",
    "df.loc[(df[\"month\"] == \"03\")|(df[\"month\"] == \"04\"), 'Bimestre'] = \"B2\"\n",
    "df.loc[(df[\"month\"] == \"06\")|(df[\"month\"] == \"05\"), 'Bimestre'] = \"B3\"\n",
    "df.loc[(df[\"month\"] == \"08\")|(df[\"month\"] == \"07\"), 'Bimestre'] = \"B4\"\n",
    "df.loc[(df[\"month\"] == \"10\")|(df[\"month\"] == \"09\"), 'Bimestre'] = \"B5\"\n",
    "df.loc[(df[\"month\"] == \"12\")|(df[\"month\"] == \"11\"), 'Bimestre'] = \"B6\"\n",
    "######\n",
    "df.loc[(df[\"Bimestre\"] == \"B1\")|(df[\"Bimestre\"] == \"B2\"), 'Quadrimestre'] = \"Q1\"\n",
    "df.loc[(df[\"Bimestre\"] == \"B3\")|(df[\"Bimestre\"] == \"B4\"), 'Quadrimestre'] = \"Q2\"\n",
    "df.loc[(df[\"Bimestre\"] == \"B5\")|(df[\"Bimestre\"] == \"B6\"), 'Quadrimestre'] = \"Q3\""
   ]
  },
  {
   "cell_type": "code",
   "execution_count": null,
   "metadata": {},
   "outputs": [],
   "source": [
    "df.month.unique()\n",
    "     "
   ]
  },
  {
   "cell_type": "code",
   "execution_count": null,
   "metadata": {},
   "outputs": [],
   "source": [
    "df.loc[1080,:]"
   ]
  },
  {
   "cell_type": "code",
   "execution_count": null,
   "metadata": {},
   "outputs": [],
   "source": [
    "\n",
    "df[\"month\"].unique()"
   ]
  },
  {
   "cell_type": "code",
   "execution_count": null,
   "metadata": {},
   "outputs": [],
   "source": [
    "df.loc[18,:]"
   ]
  },
  {
   "cell_type": "code",
   "execution_count": null,
   "metadata": {},
   "outputs": [],
   "source": [
    "df.order_status.value_counts()"
   ]
  },
  {
   "cell_type": "code",
   "execution_count": null,
   "metadata": {},
   "outputs": [],
   "source": [
    "df=df[df[\"order_status\"]==\"delivered\"]"
   ]
  },
  {
   "cell_type": "code",
   "execution_count": null,
   "metadata": {},
   "outputs": [],
   "source": [
    "df=df[df[\"year\"]!=2018]\n",
    "df"
   ]
  },
  {
   "cell_type": "code",
   "execution_count": null,
   "metadata": {},
   "outputs": [],
   "source": [
    "\n",
    "df=df.drop([\"index\"],axis=1)\n",
    "numerics = ['int16', 'int32', 'int64', 'float16', 'float32', 'float64']\n",
    "df=df.dropna()\n",
    "df_pca=df.select_dtypes(include=numerics)\n",
    "df_pca=df_pca.dropna()\n",
    "df_pca= df_pca / df_pca.std(axis=0)\n",
    "df_pca"
   ]
  },
  {
   "cell_type": "code",
   "execution_count": null,
   "metadata": {},
   "outputs": [],
   "source": [
    "n_components = 3\n",
    "pca = PCA(n_components=n_components)\n",
    "reduced = pca.fit_transform(df_pca)\n",
    " \n",
    "\n",
    "for i in range(0, n_components):\n",
    "    df_pca['PC' + str(i + 1)] = reduced[:, i]\n",
    " \n",
    " \n",
    "# graphe ébouli\n",
    "ind = np.arange(0, n_components)\n",
    "(fig, ax) = plt.subplots(figsize=(8, 6))\n",
    "sns.pointplot(x=ind, y=pca.explained_variance_ratio_)\n",
    "ax.set_title('Graphe en ébouli')\n",
    "ax.set_xticks(ind)\n",
    "ax.set_xticklabels(ind)\n",
    "ax.set_xlabel('Nombre composant')\n",
    "ax.set_ylabel('Variance expliquée')\n",
    "plt.show()\n",
    "\n",
    " \n",
    "# Cercle corrélation\n",
    "(fig, ax) = plt.subplots(figsize=(12, 12))\n",
    "for i in range(0, len(pca.components_)):\n",
    "    ax.arrow(0, 0,  \n",
    "             pca.components_[0, i], pca.components_[1, i],  \n",
    "             head_width=0.1,head_length=0.1)\n",
    "    plt.text(pca.components_[0, i] + 0.05, pca.components_[1, i] + 0.05, df_pca.columns.values[i])\n",
    " \n",
    "an = np.linspace(0, 2 * np.pi, 100)  \n",
    "plt.plot(np.cos(an), np.sin(an))\n",
    "plt.axis('equal')\n",
    "ax.set_title('Cercle corrélation')\n",
    "plt.show()"
   ]
  },
  {
   "cell_type": "code",
   "execution_count": null,
   "metadata": {},
   "outputs": [],
   "source": [
    "pca.explained_variance_ratio_.sum()"
   ]
  },
  {
   "cell_type": "code",
   "execution_count": null,
   "metadata": {},
   "outputs": [],
   "source": [
    "pca.explained_variance_ratio_[:2].sum()"
   ]
  },
  {
   "cell_type": "code",
   "execution_count": null,
   "metadata": {},
   "outputs": [],
   "source": [
    "df_pca"
   ]
  },
  {
   "cell_type": "code",
   "execution_count": null,
   "metadata": {},
   "outputs": [],
   "source": [
    "df[\"PC1\"]=df_pca[\"PC1\"]\n",
    "df[\"PC2\"]=df_pca[\"PC2\"]\n",
    "df[\"PC3\"]=df_pca[\"PC3\"]"
   ]
  },
  {
   "cell_type": "code",
   "execution_count": null,
   "metadata": {},
   "outputs": [],
   "source": [
    "df"
   ]
  },
  {
   "cell_type": "code",
   "execution_count": null,
   "metadata": {},
   "outputs": [],
   "source": [
    "plt.figure(figsize=(15,10))\n",
    "plt.title(\"ACP 2 axes\")\n",
    "sns.scatterplot(data=df, x=\"PC1\", y=\"PC2\",hue=\"Client_satisfaction\")\n",
    "plt.show()"
   ]
  },
  {
   "cell_type": "code",
   "execution_count": null,
   "metadata": {},
   "outputs": [],
   "source": []
  },
  {
   "cell_type": "code",
   "execution_count": null,
   "metadata": {},
   "outputs": [],
   "source": [
    "plt.figure(figsize=(15,10))\n",
    "plt.title(\"ACP 2 axes\")\n",
    "sns.scatterplot(data=df, x=\"PC1\", y=\"PC2\",hue=\"Client_depensier\")\n",
    "plt.show()"
   ]
  },
  {
   "cell_type": "code",
   "execution_count": null,
   "metadata": {},
   "outputs": [],
   "source": [
    "plt.figure(figsize=(15,10))\n",
    "plt.title(\"ACP 2 axes\")\n",
    "sns.scatterplot(data=df, x=\"PC1\", y=\"PC2\",hue=\"Nombre_commandes\")\n",
    "plt.show()"
   ]
  },
  {
   "cell_type": "code",
   "execution_count": null,
   "metadata": {},
   "outputs": [],
   "source": [
    "plt.figure(figsize=(15,10))\n",
    "plt.title(\"ACP 2 axes\")\n",
    "sns.scatterplot(data=df, x=\"PC1\", y=\"PC2\",hue=\"Client_fidele\")\n",
    "plt.show()"
   ]
  },
  {
   "cell_type": "code",
   "execution_count": null,
   "metadata": {},
   "outputs": [],
   "source": [
    "plt.figure(figsize=(15,10))\n",
    "plt.title(\"ACP 2 axes\")\n",
    "sns.scatterplot(data=df, x=\"PC2\", y=\"PC3\",hue=\"Client_fidele\")\n",
    "plt.show()"
   ]
  },
  {
   "cell_type": "code",
   "execution_count": null,
   "metadata": {},
   "outputs": [],
   "source": [
    "df.Client_fidele.value_counts()"
   ]
  },
  {
   "cell_type": "markdown",
   "metadata": {},
   "source": [
    "### Pour vérifier notre modélisation on coupera temporellemnt notre base en 2016/2017 et on se reservera 2018 pour notre programme de maintenance"
   ]
  },
  {
   "cell_type": "code",
   "execution_count": null,
   "metadata": {},
   "outputs": [],
   "source": [
    "fig = px.scatter_3d(\n",
    "    df, x=\"PC1\", y=\"PC2\", z=\"PC3\", color=\"Client_depensier\",\n",
    "    title=\"PCA\",\n",
    ")\n",
    "fig.show()"
   ]
  },
  {
   "cell_type": "code",
   "execution_count": null,
   "metadata": {},
   "outputs": [],
   "source": [
    "fig = px.scatter_3d(\n",
    "    df, x=\"PC1\", y=\"PC2\", z=\"PC3\", color=\"Client_satisfaction\",\n",
    "    title=\"PCA\",\n",
    ")\n",
    "fig.show()"
   ]
  },
  {
   "cell_type": "code",
   "execution_count": null,
   "metadata": {},
   "outputs": [],
   "source": [
    "fig = px.scatter_3d(\n",
    "    df, x=\"PC1\", y=\"PC2\", z=\"PC3\", color=\"Nombre_commandes\",\n",
    "    title=\"PCA\",\n",
    ")\n",
    "fig.show()"
   ]
  },
  {
   "cell_type": "code",
   "execution_count": null,
   "metadata": {},
   "outputs": [],
   "source": [
    "fig = px.scatter_3d(\n",
    "    df, x=\"PC1\", y=\"PC2\", z=\"PC3\", color=\"Client_fidele\",\n",
    "    title=\"PCA\",\n",
    ")\n",
    "fig.show()"
   ]
  },
  {
   "cell_type": "markdown",
   "metadata": {},
   "source": [
    "# FIN"
   ]
  },
  {
   "cell_type": "code",
   "execution_count": null,
   "metadata": {},
   "outputs": [],
   "source": [
    "df"
   ]
  },
  {
   "cell_type": "code",
   "execution_count": null,
   "metadata": {},
   "outputs": [],
   "source": [
    "df.shape"
   ]
  },
  {
   "cell_type": "code",
   "execution_count": null,
   "metadata": {},
   "outputs": [],
   "source": [
    "#sauveagarde_dataset\n",
    "df.to_csv(\"df.csv\",index=False)"
   ]
  },
  {
   "cell_type": "code",
   "execution_count": null,
   "metadata": {},
   "outputs": [],
   "source": [
    "PCA"
   ]
  },
  {
   "cell_type": "code",
   "execution_count": null,
   "metadata": {},
   "outputs": [],
   "source": [
    "df_pca.columns"
   ]
  },
  {
   "cell_type": "code",
   "execution_count": null,
   "metadata": {},
   "outputs": [],
   "source": [
    "pca.components_"
   ]
  },
  {
   "cell_type": "markdown",
   "metadata": {},
   "source": [
    "# Conclusion"
   ]
  },
  {
   "cell_type": "markdown",
   "metadata": {},
   "source": [
    "On conserve donc 3 axes car on est en mesure d'expliquer 78% de la variance. "
   ]
  }
 ],
 "metadata": {
  "kernelspec": {
   "display_name": "Python 3",
   "language": "python",
   "name": "python3"
  },
  "language_info": {
   "codemirror_mode": {
    "name": "ipython",
    "version": 3
   },
   "file_extension": ".py",
   "mimetype": "text/x-python",
   "name": "python",
   "nbconvert_exporter": "python",
   "pygments_lexer": "ipython3",
   "version": "3.8.3"
  }
 },
 "nbformat": 4,
 "nbformat_minor": 4
}
